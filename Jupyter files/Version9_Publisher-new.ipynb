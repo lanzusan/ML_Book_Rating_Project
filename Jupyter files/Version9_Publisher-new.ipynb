{
 "cells": [
  {
   "cell_type": "code",
   "execution_count": 62,
   "id": "a5b1036b",
   "metadata": {},
   "outputs": [],
   "source": [
    "import numpy as np\n",
    "import pandas as pd\n",
    "import matplotlib.pyplot as plt\n",
    "import seaborn as sns"
   ]
  },
  {
   "cell_type": "code",
   "execution_count": 63,
   "id": "025c0fa6",
   "metadata": {},
   "outputs": [],
   "source": [
    "df = pd.read_excel(\"C:/Users/Josiah/Downloads/books.v3.2.dropped_columns (1).xlsx\")\n"
   ]
  },
  {
   "cell_type": "code",
   "execution_count": 64,
   "id": "2c4bdaf5",
   "metadata": {},
   "outputs": [
    {
     "data": {
      "text/html": [
       "<div>\n",
       "<style scoped>\n",
       "    .dataframe tbody tr th:only-of-type {\n",
       "        vertical-align: middle;\n",
       "    }\n",
       "\n",
       "    .dataframe tbody tr th {\n",
       "        vertical-align: top;\n",
       "    }\n",
       "\n",
       "    .dataframe thead th {\n",
       "        text-align: right;\n",
       "    }\n",
       "</style>\n",
       "<table border=\"1\" class=\"dataframe\">\n",
       "  <thead>\n",
       "    <tr style=\"text-align: right;\">\n",
       "      <th></th>\n",
       "      <th>bookID</th>\n",
       "      <th>authors</th>\n",
       "      <th>average_rating</th>\n",
       "      <th>isbn13</th>\n",
       "      <th>language_code</th>\n",
       "      <th>num_pages</th>\n",
       "      <th>ratings_count</th>\n",
       "      <th>text_reviews_count</th>\n",
       "      <th>publication_date</th>\n",
       "      <th>publisher</th>\n",
       "    </tr>\n",
       "  </thead>\n",
       "  <tbody>\n",
       "    <tr>\n",
       "      <th>0</th>\n",
       "      <td>12224</td>\n",
       "      <td>Sam Bass Warner</td>\n",
       "      <td>3.58</td>\n",
       "      <td>9780674842113</td>\n",
       "      <td>en-US</td>\n",
       "      <td>236</td>\n",
       "      <td>61</td>\n",
       "      <td>6</td>\n",
       "      <td>38097</td>\n",
       "      <td>Harvard University Press</td>\n",
       "    </tr>\n",
       "    <tr>\n",
       "      <th>1</th>\n",
       "      <td>16914</td>\n",
       "      <td>David E. Smith (Turgon of TheOneRing.net</td>\n",
       "      <td>3.58</td>\n",
       "      <td>9781593600112</td>\n",
       "      <td>eng</td>\n",
       "      <td>400</td>\n",
       "      <td>26</td>\n",
       "      <td>4</td>\n",
       "      <td>38083</td>\n",
       "      <td>Cold Spring Press</td>\n",
       "    </tr>\n",
       "    <tr>\n",
       "      <th>2</th>\n",
       "      <td>26012</td>\n",
       "      <td>Bret Easton Ellis</td>\n",
       "      <td>3.46</td>\n",
       "      <td>9782264031914</td>\n",
       "      <td>fre</td>\n",
       "      <td>537</td>\n",
       "      <td>56</td>\n",
       "      <td>5</td>\n",
       "      <td>36937</td>\n",
       "      <td>2018-10-01 00:00:00</td>\n",
       "    </tr>\n",
       "    <tr>\n",
       "      <th>3</th>\n",
       "      <td>28225</td>\n",
       "      <td>Nicholson Baker</td>\n",
       "      <td>3.84</td>\n",
       "      <td>9782264017697</td>\n",
       "      <td>fre</td>\n",
       "      <td>191</td>\n",
       "      <td>6</td>\n",
       "      <td>1</td>\n",
       "      <td>36117</td>\n",
       "      <td>2018-10-01 00:00:00</td>\n",
       "    </tr>\n",
       "    <tr>\n",
       "      <th>4</th>\n",
       "      <td>22128</td>\n",
       "      <td>James Wesley</td>\n",
       "      <td>3.63</td>\n",
       "      <td>9781563841552</td>\n",
       "      <td>eng</td>\n",
       "      <td>342</td>\n",
       "      <td>38</td>\n",
       "      <td>4</td>\n",
       "      <td>36175</td>\n",
       "      <td>Huntington House Publishers</td>\n",
       "    </tr>\n",
       "    <tr>\n",
       "      <th>5</th>\n",
       "      <td>31095</td>\n",
       "      <td>Robert M. Pirsig</td>\n",
       "      <td>3.58</td>\n",
       "      <td>9781403356208</td>\n",
       "      <td>en-GB</td>\n",
       "      <td>600</td>\n",
       "      <td>54</td>\n",
       "      <td>5</td>\n",
       "      <td>37635</td>\n",
       "      <td>1st Book Library</td>\n",
       "    </tr>\n",
       "    <tr>\n",
       "      <th>6</th>\n",
       "      <td>5478</td>\n",
       "      <td>George Orwell</td>\n",
       "      <td>4.18</td>\n",
       "      <td>9781421808321</td>\n",
       "      <td>eng</td>\n",
       "      <td>387</td>\n",
       "      <td>215</td>\n",
       "      <td>17</td>\n",
       "      <td>38534</td>\n",
       "      <td>1st World Library</td>\n",
       "    </tr>\n",
       "    <tr>\n",
       "      <th>7</th>\n",
       "      <td>31373</td>\n",
       "      <td>Elizabeth  George</td>\n",
       "      <td>4.10</td>\n",
       "      <td>9780553575101</td>\n",
       "      <td>eng</td>\n",
       "      <td>718</td>\n",
       "      <td>10608</td>\n",
       "      <td>295</td>\n",
       "      <td>36831</td>\n",
       "      <td>Bantam Books</td>\n",
       "    </tr>\n",
       "    <tr>\n",
       "      <th>8</th>\n",
       "      <td>16285</td>\n",
       "      <td>Terry Deary</td>\n",
       "      <td>4.40</td>\n",
       "      <td>9780713659894</td>\n",
       "      <td>eng</td>\n",
       "      <td>62</td>\n",
       "      <td>5</td>\n",
       "      <td>0</td>\n",
       "      <td>37195</td>\n",
       "      <td>A &amp; C Black</td>\n",
       "    </tr>\n",
       "    <tr>\n",
       "      <th>9</th>\n",
       "      <td>18843</td>\n",
       "      <td>Virginia Woolf</td>\n",
       "      <td>4.07</td>\n",
       "      <td>9780156028066</td>\n",
       "      <td>eng</td>\n",
       "      <td>216</td>\n",
       "      <td>244</td>\n",
       "      <td>13</td>\n",
       "      <td>37711</td>\n",
       "      <td>A Harvest Book</td>\n",
       "    </tr>\n",
       "  </tbody>\n",
       "</table>\n",
       "</div>"
      ],
      "text/plain": [
       "   bookID                                   authors  average_rating  \\\n",
       "0   12224                           Sam Bass Warner            3.58   \n",
       "1   16914  David E. Smith (Turgon of TheOneRing.net            3.58   \n",
       "2   26012                         Bret Easton Ellis            3.46   \n",
       "3   28225                           Nicholson Baker            3.84   \n",
       "4   22128                              James Wesley            3.63   \n",
       "5   31095                          Robert M. Pirsig            3.58   \n",
       "6    5478                             George Orwell            4.18   \n",
       "7   31373                         Elizabeth  George            4.10   \n",
       "8   16285                               Terry Deary            4.40   \n",
       "9   18843                            Virginia Woolf            4.07   \n",
       "\n",
       "          isbn13 language_code    num_pages  ratings_count  \\\n",
       "0  9780674842113         en-US          236             61   \n",
       "1  9781593600112           eng          400             26   \n",
       "2  9782264031914           fre          537             56   \n",
       "3  9782264017697           fre          191              6   \n",
       "4  9781563841552           eng          342             38   \n",
       "5  9781403356208         en-GB          600             54   \n",
       "6  9781421808321           eng          387            215   \n",
       "7  9780553575101           eng          718          10608   \n",
       "8  9780713659894           eng           62              5   \n",
       "9  9780156028066           eng          216            244   \n",
       "\n",
       "   text_reviews_count  publication_date                    publisher  \n",
       "0                   6             38097     Harvard University Press  \n",
       "1                   4             38083            Cold Spring Press  \n",
       "2                   5             36937          2018-10-01 00:00:00  \n",
       "3                   1             36117          2018-10-01 00:00:00  \n",
       "4                   4             36175  Huntington House Publishers  \n",
       "5                   5             37635             1st Book Library  \n",
       "6                  17             38534            1st World Library  \n",
       "7                 295             36831                 Bantam Books  \n",
       "8                   0             37195                  A & C Black  \n",
       "9                  13             37711               A Harvest Book  "
      ]
     },
     "execution_count": 64,
     "metadata": {},
     "output_type": "execute_result"
    }
   ],
   "source": [
    "df.head(10)"
   ]
  },
  {
   "cell_type": "code",
   "execution_count": 65,
   "id": "9ebdab2f",
   "metadata": {},
   "outputs": [
    {
     "data": {
      "text/html": [
       "<div>\n",
       "<style scoped>\n",
       "    .dataframe tbody tr th:only-of-type {\n",
       "        vertical-align: middle;\n",
       "    }\n",
       "\n",
       "    .dataframe tbody tr th {\n",
       "        vertical-align: top;\n",
       "    }\n",
       "\n",
       "    .dataframe thead th {\n",
       "        text-align: right;\n",
       "    }\n",
       "</style>\n",
       "<table border=\"1\" class=\"dataframe\">\n",
       "  <thead>\n",
       "    <tr style=\"text-align: right;\">\n",
       "      <th></th>\n",
       "      <th>bookID</th>\n",
       "      <th>authors</th>\n",
       "      <th>average_rating</th>\n",
       "      <th>isbn13</th>\n",
       "      <th>language_code</th>\n",
       "      <th>num_pages</th>\n",
       "      <th>ratings_count</th>\n",
       "      <th>text_reviews_count</th>\n",
       "      <th>publication_date</th>\n",
       "      <th>publisher</th>\n",
       "    </tr>\n",
       "  </thead>\n",
       "  <tbody>\n",
       "    <tr>\n",
       "      <th>11117</th>\n",
       "      <td>34506</td>\n",
       "      <td>Terry Pratchett</td>\n",
       "      <td>3.97</td>\n",
       "      <td>9780061020704</td>\n",
       "      <td>eng</td>\n",
       "      <td>277</td>\n",
       "      <td>91479</td>\n",
       "      <td>2031</td>\n",
       "      <td>36558</td>\n",
       "      <td>HarperTorch</td>\n",
       "    </tr>\n",
       "    <tr>\n",
       "      <th>11118</th>\n",
       "      <td>34507</td>\n",
       "      <td>Terry Pratchett</td>\n",
       "      <td>4.03</td>\n",
       "      <td>9780060855901</td>\n",
       "      <td>eng</td>\n",
       "      <td>228</td>\n",
       "      <td>110062</td>\n",
       "      <td>2261</td>\n",
       "      <td>38608</td>\n",
       "      <td>Harper Perennial</td>\n",
       "    </tr>\n",
       "    <tr>\n",
       "      <th>11119</th>\n",
       "      <td>34510</td>\n",
       "      <td>Terry Pratchett</td>\n",
       "      <td>3.94</td>\n",
       "      <td>9780552152945</td>\n",
       "      <td>eng</td>\n",
       "      <td>396</td>\n",
       "      <td>52713</td>\n",
       "      <td>817</td>\n",
       "      <td>38443</td>\n",
       "      <td>Corgi</td>\n",
       "    </tr>\n",
       "    <tr>\n",
       "      <th>11120</th>\n",
       "      <td>34517</td>\n",
       "      <td>Terry Pratchett</td>\n",
       "      <td>4.28</td>\n",
       "      <td>9780552152952</td>\n",
       "      <td>eng</td>\n",
       "      <td>352</td>\n",
       "      <td>63287</td>\n",
       "      <td>1445</td>\n",
       "      <td>38443</td>\n",
       "      <td>Corgi</td>\n",
       "    </tr>\n",
       "    <tr>\n",
       "      <th>11121</th>\n",
       "      <td>34529</td>\n",
       "      <td>Terry Pratchett</td>\n",
       "      <td>4.17</td>\n",
       "      <td>9780552153157</td>\n",
       "      <td>eng</td>\n",
       "      <td>400</td>\n",
       "      <td>53721</td>\n",
       "      <td>814</td>\n",
       "      <td>38565</td>\n",
       "      <td>Corgi</td>\n",
       "    </tr>\n",
       "    <tr>\n",
       "      <th>11122</th>\n",
       "      <td>34532</td>\n",
       "      <td>Terry Pratchett</td>\n",
       "      <td>4.23</td>\n",
       "      <td>9780552154284</td>\n",
       "      <td>eng</td>\n",
       "      <td>432</td>\n",
       "      <td>60162</td>\n",
       "      <td>1373</td>\n",
       "      <td>38992</td>\n",
       "      <td>Corgi</td>\n",
       "    </tr>\n",
       "    <tr>\n",
       "      <th>11123</th>\n",
       "      <td>34541</td>\n",
       "      <td>Terry Pratchett</td>\n",
       "      <td>4.14</td>\n",
       "      <td>9780061051586</td>\n",
       "      <td>eng</td>\n",
       "      <td>296</td>\n",
       "      <td>41899</td>\n",
       "      <td>746</td>\n",
       "      <td>36411</td>\n",
       "      <td>Harper Voyager</td>\n",
       "    </tr>\n",
       "    <tr>\n",
       "      <th>11124</th>\n",
       "      <td>36402</td>\n",
       "      <td>Sarah Fielding</td>\n",
       "      <td>2.63</td>\n",
       "      <td>9781551114125</td>\n",
       "      <td>eng</td>\n",
       "      <td>242</td>\n",
       "      <td>132</td>\n",
       "      <td>18</td>\n",
       "      <td>38621</td>\n",
       "      <td>Broadview Press Inc</td>\n",
       "    </tr>\n",
       "    <tr>\n",
       "      <th>11125</th>\n",
       "      <td>38522</td>\n",
       "      <td>Sherrilyn Kenyon</td>\n",
       "      <td>4.06</td>\n",
       "      <td>9780312349295</td>\n",
       "      <td>eng</td>\n",
       "      <td>373</td>\n",
       "      <td>7959</td>\n",
       "      <td>200</td>\n",
       "      <td>38993</td>\n",
       "      <td>St. Martin's Press</td>\n",
       "    </tr>\n",
       "    <tr>\n",
       "      <th>11126</th>\n",
       "      <td>40132</td>\n",
       "      <td>Leonardo da Vinci</td>\n",
       "      <td>4.17</td>\n",
       "      <td>9780300090956</td>\n",
       "      <td>eng</td>\n",
       "      <td>336</td>\n",
       "      <td>120</td>\n",
       "      <td>4</td>\n",
       "      <td>37114</td>\n",
       "      <td>Yale University Press</td>\n",
       "    </tr>\n",
       "  </tbody>\n",
       "</table>\n",
       "</div>"
      ],
      "text/plain": [
       "       bookID            authors  average_rating         isbn13 language_code  \\\n",
       "11117   34506    Terry Pratchett            3.97  9780061020704           eng   \n",
       "11118   34507    Terry Pratchett            4.03  9780060855901           eng   \n",
       "11119   34510    Terry Pratchett            3.94  9780552152945           eng   \n",
       "11120   34517    Terry Pratchett            4.28  9780552152952           eng   \n",
       "11121   34529    Terry Pratchett            4.17  9780552153157           eng   \n",
       "11122   34532    Terry Pratchett            4.23  9780552154284           eng   \n",
       "11123   34541    Terry Pratchett            4.14  9780061051586           eng   \n",
       "11124   36402     Sarah Fielding            2.63  9781551114125           eng   \n",
       "11125   38522   Sherrilyn Kenyon            4.06  9780312349295           eng   \n",
       "11126   40132  Leonardo da Vinci            4.17  9780300090956           eng   \n",
       "\n",
       "         num_pages  ratings_count  text_reviews_count  publication_date  \\\n",
       "11117          277          91479                2031             36558   \n",
       "11118          228         110062                2261             38608   \n",
       "11119          396          52713                 817             38443   \n",
       "11120          352          63287                1445             38443   \n",
       "11121          400          53721                 814             38565   \n",
       "11122          432          60162                1373             38992   \n",
       "11123          296          41899                 746             36411   \n",
       "11124          242            132                  18             38621   \n",
       "11125          373           7959                 200             38993   \n",
       "11126          336            120                   4             37114   \n",
       "\n",
       "                   publisher  \n",
       "11117            HarperTorch  \n",
       "11118       Harper Perennial  \n",
       "11119                  Corgi  \n",
       "11120                  Corgi  \n",
       "11121                  Corgi  \n",
       "11122                  Corgi  \n",
       "11123         Harper Voyager  \n",
       "11124    Broadview Press Inc  \n",
       "11125     St. Martin's Press  \n",
       "11126  Yale University Press  "
      ]
     },
     "execution_count": 65,
     "metadata": {},
     "output_type": "execute_result"
    }
   ],
   "source": [
    "df.tail(10)"
   ]
  },
  {
   "cell_type": "code",
   "execution_count": 66,
   "id": "e2de20e7",
   "metadata": {},
   "outputs": [
    {
     "data": {
      "text/html": [
       "<div>\n",
       "<style scoped>\n",
       "    .dataframe tbody tr th:only-of-type {\n",
       "        vertical-align: middle;\n",
       "    }\n",
       "\n",
       "    .dataframe tbody tr th {\n",
       "        vertical-align: top;\n",
       "    }\n",
       "\n",
       "    .dataframe thead th {\n",
       "        text-align: right;\n",
       "    }\n",
       "</style>\n",
       "<table border=\"1\" class=\"dataframe\">\n",
       "  <thead>\n",
       "    <tr style=\"text-align: right;\">\n",
       "      <th></th>\n",
       "      <th>bookID</th>\n",
       "      <th>average_rating</th>\n",
       "      <th>isbn13</th>\n",
       "      <th>num_pages</th>\n",
       "      <th>ratings_count</th>\n",
       "      <th>text_reviews_count</th>\n",
       "      <th>publication_date</th>\n",
       "    </tr>\n",
       "  </thead>\n",
       "  <tbody>\n",
       "    <tr>\n",
       "      <th>count</th>\n",
       "      <td>11127.000000</td>\n",
       "      <td>11127.000000</td>\n",
       "      <td>1.112700e+04</td>\n",
       "      <td>11127.000000</td>\n",
       "      <td>1.112700e+04</td>\n",
       "      <td>11127.000000</td>\n",
       "      <td>11127.000000</td>\n",
       "    </tr>\n",
       "    <tr>\n",
       "      <th>mean</th>\n",
       "      <td>21310.938887</td>\n",
       "      <td>3.933631</td>\n",
       "      <td>9.759888e+12</td>\n",
       "      <td>336.376921</td>\n",
       "      <td>1.793641e+04</td>\n",
       "      <td>541.854498</td>\n",
       "      <td>36768.842995</td>\n",
       "    </tr>\n",
       "    <tr>\n",
       "      <th>std</th>\n",
       "      <td>13093.358023</td>\n",
       "      <td>0.352445</td>\n",
       "      <td>4.428964e+11</td>\n",
       "      <td>241.127305</td>\n",
       "      <td>1.124794e+05</td>\n",
       "      <td>2576.176608</td>\n",
       "      <td>2998.495083</td>\n",
       "    </tr>\n",
       "    <tr>\n",
       "      <th>min</th>\n",
       "      <td>1.000000</td>\n",
       "      <td>0.000000</td>\n",
       "      <td>8.987060e+09</td>\n",
       "      <td>0.000000</td>\n",
       "      <td>0.000000e+00</td>\n",
       "      <td>0.000000</td>\n",
       "      <td>4750.000000</td>\n",
       "    </tr>\n",
       "    <tr>\n",
       "      <th>25%</th>\n",
       "      <td>10287.000000</td>\n",
       "      <td>3.770000</td>\n",
       "      <td>9.780345e+12</td>\n",
       "      <td>192.000000</td>\n",
       "      <td>1.040000e+02</td>\n",
       "      <td>9.000000</td>\n",
       "      <td>35992.500000</td>\n",
       "    </tr>\n",
       "    <tr>\n",
       "      <th>50%</th>\n",
       "      <td>20287.000000</td>\n",
       "      <td>3.960000</td>\n",
       "      <td>9.780586e+12</td>\n",
       "      <td>299.000000</td>\n",
       "      <td>7.450000e+02</td>\n",
       "      <td>46.000000</td>\n",
       "      <td>37681.000000</td>\n",
       "    </tr>\n",
       "    <tr>\n",
       "      <th>75%</th>\n",
       "      <td>32104.500000</td>\n",
       "      <td>4.135000</td>\n",
       "      <td>9.780873e+12</td>\n",
       "      <td>416.000000</td>\n",
       "      <td>4.993500e+03</td>\n",
       "      <td>237.500000</td>\n",
       "      <td>38625.000000</td>\n",
       "    </tr>\n",
       "    <tr>\n",
       "      <th>max</th>\n",
       "      <td>45641.000000</td>\n",
       "      <td>5.000000</td>\n",
       "      <td>9.790008e+12</td>\n",
       "      <td>6576.000000</td>\n",
       "      <td>4.597666e+06</td>\n",
       "      <td>94265.000000</td>\n",
       "      <td>43921.000000</td>\n",
       "    </tr>\n",
       "  </tbody>\n",
       "</table>\n",
       "</div>"
      ],
      "text/plain": [
       "             bookID  average_rating        isbn13     num_pages  \\\n",
       "count  11127.000000    11127.000000  1.112700e+04  11127.000000   \n",
       "mean   21310.938887        3.933631  9.759888e+12    336.376921   \n",
       "std    13093.358023        0.352445  4.428964e+11    241.127305   \n",
       "min        1.000000        0.000000  8.987060e+09      0.000000   \n",
       "25%    10287.000000        3.770000  9.780345e+12    192.000000   \n",
       "50%    20287.000000        3.960000  9.780586e+12    299.000000   \n",
       "75%    32104.500000        4.135000  9.780873e+12    416.000000   \n",
       "max    45641.000000        5.000000  9.790008e+12   6576.000000   \n",
       "\n",
       "       ratings_count  text_reviews_count  publication_date  \n",
       "count   1.112700e+04        11127.000000      11127.000000  \n",
       "mean    1.793641e+04          541.854498      36768.842995  \n",
       "std     1.124794e+05         2576.176608       2998.495083  \n",
       "min     0.000000e+00            0.000000       4750.000000  \n",
       "25%     1.040000e+02            9.000000      35992.500000  \n",
       "50%     7.450000e+02           46.000000      37681.000000  \n",
       "75%     4.993500e+03          237.500000      38625.000000  \n",
       "max     4.597666e+06        94265.000000      43921.000000  "
      ]
     },
     "execution_count": 66,
     "metadata": {},
     "output_type": "execute_result"
    }
   ],
   "source": [
    "df.describe()"
   ]
  },
  {
   "cell_type": "code",
   "execution_count": 67,
   "id": "45b62059",
   "metadata": {},
   "outputs": [
    {
     "data": {
      "text/html": [
       "<div>\n",
       "<style scoped>\n",
       "    .dataframe tbody tr th:only-of-type {\n",
       "        vertical-align: middle;\n",
       "    }\n",
       "\n",
       "    .dataframe tbody tr th {\n",
       "        vertical-align: top;\n",
       "    }\n",
       "\n",
       "    .dataframe thead th {\n",
       "        text-align: right;\n",
       "    }\n",
       "</style>\n",
       "<table border=\"1\" class=\"dataframe\">\n",
       "  <thead>\n",
       "    <tr style=\"text-align: right;\">\n",
       "      <th></th>\n",
       "      <th>authors</th>\n",
       "      <th>language_code</th>\n",
       "      <th>publisher</th>\n",
       "    </tr>\n",
       "  </thead>\n",
       "  <tbody>\n",
       "    <tr>\n",
       "      <th>count</th>\n",
       "      <td>11127</td>\n",
       "      <td>11127</td>\n",
       "      <td>11127</td>\n",
       "    </tr>\n",
       "    <tr>\n",
       "      <th>unique</th>\n",
       "      <td>4219</td>\n",
       "      <td>27</td>\n",
       "      <td>1801</td>\n",
       "    </tr>\n",
       "    <tr>\n",
       "      <th>top</th>\n",
       "      <td>William Shakespeare</td>\n",
       "      <td>eng</td>\n",
       "      <td>Penguin Books</td>\n",
       "    </tr>\n",
       "    <tr>\n",
       "      <th>freq</th>\n",
       "      <td>88</td>\n",
       "      <td>8911</td>\n",
       "      <td>370</td>\n",
       "    </tr>\n",
       "  </tbody>\n",
       "</table>\n",
       "</div>"
      ],
      "text/plain": [
       "                    authors language_code      publisher\n",
       "count                 11127         11127          11127\n",
       "unique                 4219            27           1801\n",
       "top     William Shakespeare           eng  Penguin Books\n",
       "freq                     88          8911            370"
      ]
     },
     "execution_count": 67,
     "metadata": {},
     "output_type": "execute_result"
    }
   ],
   "source": [
    "df.describe(include=[\"O\"])"
   ]
  },
  {
   "cell_type": "code",
   "execution_count": 68,
   "id": "814b9101",
   "metadata": {},
   "outputs": [
    {
     "data": {
      "text/plain": [
       "bookID                0\n",
       "authors               0\n",
       "average_rating        0\n",
       "isbn13                0\n",
       "language_code         0\n",
       "  num_pages           0\n",
       "ratings_count         0\n",
       "text_reviews_count    0\n",
       "publication_date      0\n",
       "publisher             0\n",
       "dtype: int64"
      ]
     },
     "execution_count": 68,
     "metadata": {},
     "output_type": "execute_result"
    }
   ],
   "source": [
    "df.isna().sum()"
   ]
  },
  {
   "cell_type": "code",
   "execution_count": 69,
   "id": "8115c2e9",
   "metadata": {},
   "outputs": [
    {
     "name": "stdout",
     "output_type": "stream",
     "text": [
      "Requirement already satisfied: category_encoders in c:\\users\\josiah\\anaconda3\\newanaconda\\lib\\site-packages (2.6.3)\n",
      "Requirement already satisfied: numpy>=1.14.0 in c:\\users\\josiah\\anaconda3\\newanaconda\\lib\\site-packages (from category_encoders) (1.24.3)\n",
      "Requirement already satisfied: scikit-learn>=0.20.0 in c:\\users\\josiah\\anaconda3\\newanaconda\\lib\\site-packages (from category_encoders) (1.3.0)\n",
      "Requirement already satisfied: scipy>=1.0.0 in c:\\users\\josiah\\anaconda3\\newanaconda\\lib\\site-packages (from category_encoders) (1.11.1)\n",
      "Requirement already satisfied: statsmodels>=0.9.0 in c:\\users\\josiah\\anaconda3\\newanaconda\\lib\\site-packages (from category_encoders) (0.14.0)\n",
      "Requirement already satisfied: pandas>=1.0.5 in c:\\users\\josiah\\anaconda3\\newanaconda\\lib\\site-packages (from category_encoders) (2.0.3)\n",
      "Requirement already satisfied: patsy>=0.5.1 in c:\\users\\josiah\\anaconda3\\newanaconda\\lib\\site-packages (from category_encoders) (0.5.3)\n",
      "Requirement already satisfied: python-dateutil>=2.8.2 in c:\\users\\josiah\\anaconda3\\newanaconda\\lib\\site-packages (from pandas>=1.0.5->category_encoders) (2.8.2)\n",
      "Requirement already satisfied: pytz>=2020.1 in c:\\users\\josiah\\anaconda3\\newanaconda\\lib\\site-packages (from pandas>=1.0.5->category_encoders) (2023.3.post1)\n",
      "Requirement already satisfied: tzdata>=2022.1 in c:\\users\\josiah\\anaconda3\\newanaconda\\lib\\site-packages (from pandas>=1.0.5->category_encoders) (2023.3)\n",
      "Requirement already satisfied: six in c:\\users\\josiah\\anaconda3\\newanaconda\\lib\\site-packages (from patsy>=0.5.1->category_encoders) (1.16.0)\n",
      "Requirement already satisfied: joblib>=1.1.1 in c:\\users\\josiah\\anaconda3\\newanaconda\\lib\\site-packages (from scikit-learn>=0.20.0->category_encoders) (1.2.0)\n",
      "Requirement already satisfied: threadpoolctl>=2.0.0 in c:\\users\\josiah\\anaconda3\\newanaconda\\lib\\site-packages (from scikit-learn>=0.20.0->category_encoders) (2.2.0)\n",
      "Requirement already satisfied: packaging>=21.3 in c:\\users\\josiah\\anaconda3\\newanaconda\\lib\\site-packages (from statsmodels>=0.9.0->category_encoders) (23.1)\n",
      "Note: you may need to restart the kernel to use updated packages.\n"
     ]
    }
   ],
   "source": [
    "pip install category_encoders"
   ]
  },
  {
   "cell_type": "code",
   "execution_count": 70,
   "id": "2d930812",
   "metadata": {},
   "outputs": [],
   "source": [
    "import category_encoders as ce\n",
    "target_encoder = ce.TargetEncoder(cols=['language_code'])\n",
    "df['language_code_encoded'] = target_encoder.fit_transform(df['language_code'], df['average_rating'])\n"
   ]
  },
  {
   "cell_type": "code",
   "execution_count": 71,
   "id": "7630e777",
   "metadata": {},
   "outputs": [],
   "source": [
    "import category_encoders as ce\n",
    "target_encoder = ce.TargetEncoder(cols=['publisher'])\n",
    "df['publisher_encoded'] = target_encoder.fit_transform(df['publisher'], df['average_rating'])\n"
   ]
  },
  {
   "cell_type": "code",
   "execution_count": 72,
   "id": "7d8d2205",
   "metadata": {},
   "outputs": [],
   "source": [
    "import category_encoders as ce\n",
    "target_encoder = ce.TargetEncoder(cols=['authors'])\n",
    "df['authors_encoded'] = target_encoder.fit_transform(df['authors'], df['average_rating'])\n"
   ]
  },
  {
   "cell_type": "code",
   "execution_count": 73,
   "id": "1c4d9ad6",
   "metadata": {},
   "outputs": [
    {
     "name": "stdout",
     "output_type": "stream",
     "text": [
      "Index(['bookID', 'authors', 'average_rating', 'isbn13', 'language_code',\n",
      "       '  num_pages', 'ratings_count', 'text_reviews_count',\n",
      "       'publication_date', 'publisher', 'language_code_encoded',\n",
      "       'publisher_encoded', 'authors_encoded'],\n",
      "      dtype='object')\n"
     ]
    }
   ],
   "source": [
    "print(df.columns)\n"
   ]
  },
  {
   "cell_type": "code",
   "execution_count": 74,
   "id": "81616edc",
   "metadata": {},
   "outputs": [
    {
     "data": {
      "text/html": [
       "<div>\n",
       "<style scoped>\n",
       "    .dataframe tbody tr th:only-of-type {\n",
       "        vertical-align: middle;\n",
       "    }\n",
       "\n",
       "    .dataframe tbody tr th {\n",
       "        vertical-align: top;\n",
       "    }\n",
       "\n",
       "    .dataframe thead th {\n",
       "        text-align: right;\n",
       "    }\n",
       "</style>\n",
       "<table border=\"1\" class=\"dataframe\">\n",
       "  <thead>\n",
       "    <tr style=\"text-align: right;\">\n",
       "      <th></th>\n",
       "      <th>bookID</th>\n",
       "      <th>average_rating</th>\n",
       "      <th>isbn13</th>\n",
       "      <th>num_pages</th>\n",
       "      <th>ratings_count</th>\n",
       "      <th>text_reviews_count</th>\n",
       "      <th>publication_date</th>\n",
       "      <th>language_code_encoded</th>\n",
       "      <th>publisher_encoded</th>\n",
       "      <th>authors_encoded</th>\n",
       "    </tr>\n",
       "  </thead>\n",
       "  <tbody>\n",
       "    <tr>\n",
       "      <th>bookID</th>\n",
       "      <td>1.000000</td>\n",
       "      <td>-0.036949</td>\n",
       "      <td>-0.002185</td>\n",
       "      <td>-0.026223</td>\n",
       "      <td>-0.076815</td>\n",
       "      <td>-0.081284</td>\n",
       "      <td>0.028401</td>\n",
       "      <td>-0.016112</td>\n",
       "      <td>-0.042639</td>\n",
       "      <td>-0.060426</td>\n",
       "    </tr>\n",
       "    <tr>\n",
       "      <th>average_rating</th>\n",
       "      <td>-0.036949</td>\n",
       "      <td>1.000000</td>\n",
       "      <td>-0.002013</td>\n",
       "      <td>0.150809</td>\n",
       "      <td>0.038205</td>\n",
       "      <td>0.033734</td>\n",
       "      <td>-0.030681</td>\n",
       "      <td>0.107293</td>\n",
       "      <td>0.459667</td>\n",
       "      <td>0.695883</td>\n",
       "    </tr>\n",
       "    <tr>\n",
       "      <th>isbn13</th>\n",
       "      <td>-0.002185</td>\n",
       "      <td>-0.002013</td>\n",
       "      <td>1.000000</td>\n",
       "      <td>-0.009822</td>\n",
       "      <td>0.005491</td>\n",
       "      <td>0.008148</td>\n",
       "      <td>-0.000643</td>\n",
       "      <td>0.006715</td>\n",
       "      <td>-0.002361</td>\n",
       "      <td>0.005067</td>\n",
       "    </tr>\n",
       "    <tr>\n",
       "      <th>num_pages</th>\n",
       "      <td>-0.026223</td>\n",
       "      <td>0.150809</td>\n",
       "      <td>-0.009822</td>\n",
       "      <td>1.000000</td>\n",
       "      <td>0.034353</td>\n",
       "      <td>0.036998</td>\n",
       "      <td>-0.019184</td>\n",
       "      <td>-0.027015</td>\n",
       "      <td>0.039800</td>\n",
       "      <td>0.048601</td>\n",
       "    </tr>\n",
       "    <tr>\n",
       "      <th>ratings_count</th>\n",
       "      <td>-0.076815</td>\n",
       "      <td>0.038205</td>\n",
       "      <td>0.005491</td>\n",
       "      <td>0.034353</td>\n",
       "      <td>1.000000</td>\n",
       "      <td>0.865979</td>\n",
       "      <td>0.044088</td>\n",
       "      <td>-0.000118</td>\n",
       "      <td>-0.004800</td>\n",
       "      <td>0.059606</td>\n",
       "    </tr>\n",
       "    <tr>\n",
       "      <th>text_reviews_count</th>\n",
       "      <td>-0.081284</td>\n",
       "      <td>0.033734</td>\n",
       "      <td>0.008148</td>\n",
       "      <td>0.036998</td>\n",
       "      <td>0.865979</td>\n",
       "      <td>1.000000</td>\n",
       "      <td>0.066223</td>\n",
       "      <td>-0.002233</td>\n",
       "      <td>-0.027454</td>\n",
       "      <td>0.028978</td>\n",
       "    </tr>\n",
       "    <tr>\n",
       "      <th>publication_date</th>\n",
       "      <td>0.028401</td>\n",
       "      <td>-0.030681</td>\n",
       "      <td>-0.000643</td>\n",
       "      <td>-0.019184</td>\n",
       "      <td>0.044088</td>\n",
       "      <td>0.066223</td>\n",
       "      <td>1.000000</td>\n",
       "      <td>-0.013229</td>\n",
       "      <td>0.017931</td>\n",
       "      <td>0.008655</td>\n",
       "    </tr>\n",
       "    <tr>\n",
       "      <th>language_code_encoded</th>\n",
       "      <td>-0.016112</td>\n",
       "      <td>0.107293</td>\n",
       "      <td>0.006715</td>\n",
       "      <td>-0.027015</td>\n",
       "      <td>-0.000118</td>\n",
       "      <td>-0.002233</td>\n",
       "      <td>-0.013229</td>\n",
       "      <td>1.000000</td>\n",
       "      <td>0.108301</td>\n",
       "      <td>0.201621</td>\n",
       "    </tr>\n",
       "    <tr>\n",
       "      <th>publisher_encoded</th>\n",
       "      <td>-0.042639</td>\n",
       "      <td>0.459667</td>\n",
       "      <td>-0.002361</td>\n",
       "      <td>0.039800</td>\n",
       "      <td>-0.004800</td>\n",
       "      <td>-0.027454</td>\n",
       "      <td>0.017931</td>\n",
       "      <td>0.108301</td>\n",
       "      <td>1.000000</td>\n",
       "      <td>0.435102</td>\n",
       "    </tr>\n",
       "    <tr>\n",
       "      <th>authors_encoded</th>\n",
       "      <td>-0.060426</td>\n",
       "      <td>0.695883</td>\n",
       "      <td>0.005067</td>\n",
       "      <td>0.048601</td>\n",
       "      <td>0.059606</td>\n",
       "      <td>0.028978</td>\n",
       "      <td>0.008655</td>\n",
       "      <td>0.201621</td>\n",
       "      <td>0.435102</td>\n",
       "      <td>1.000000</td>\n",
       "    </tr>\n",
       "  </tbody>\n",
       "</table>\n",
       "</div>"
      ],
      "text/plain": [
       "                         bookID  average_rating    isbn13    num_pages  \\\n",
       "bookID                 1.000000       -0.036949 -0.002185    -0.026223   \n",
       "average_rating        -0.036949        1.000000 -0.002013     0.150809   \n",
       "isbn13                -0.002185       -0.002013  1.000000    -0.009822   \n",
       "  num_pages           -0.026223        0.150809 -0.009822     1.000000   \n",
       "ratings_count         -0.076815        0.038205  0.005491     0.034353   \n",
       "text_reviews_count    -0.081284        0.033734  0.008148     0.036998   \n",
       "publication_date       0.028401       -0.030681 -0.000643    -0.019184   \n",
       "language_code_encoded -0.016112        0.107293  0.006715    -0.027015   \n",
       "publisher_encoded     -0.042639        0.459667 -0.002361     0.039800   \n",
       "authors_encoded       -0.060426        0.695883  0.005067     0.048601   \n",
       "\n",
       "                       ratings_count  text_reviews_count  publication_date  \\\n",
       "bookID                     -0.076815           -0.081284          0.028401   \n",
       "average_rating              0.038205            0.033734         -0.030681   \n",
       "isbn13                      0.005491            0.008148         -0.000643   \n",
       "  num_pages                 0.034353            0.036998         -0.019184   \n",
       "ratings_count               1.000000            0.865979          0.044088   \n",
       "text_reviews_count          0.865979            1.000000          0.066223   \n",
       "publication_date            0.044088            0.066223          1.000000   \n",
       "language_code_encoded      -0.000118           -0.002233         -0.013229   \n",
       "publisher_encoded          -0.004800           -0.027454          0.017931   \n",
       "authors_encoded             0.059606            0.028978          0.008655   \n",
       "\n",
       "                       language_code_encoded  publisher_encoded  \\\n",
       "bookID                             -0.016112          -0.042639   \n",
       "average_rating                      0.107293           0.459667   \n",
       "isbn13                              0.006715          -0.002361   \n",
       "  num_pages                        -0.027015           0.039800   \n",
       "ratings_count                      -0.000118          -0.004800   \n",
       "text_reviews_count                 -0.002233          -0.027454   \n",
       "publication_date                   -0.013229           0.017931   \n",
       "language_code_encoded               1.000000           0.108301   \n",
       "publisher_encoded                   0.108301           1.000000   \n",
       "authors_encoded                     0.201621           0.435102   \n",
       "\n",
       "                       authors_encoded  \n",
       "bookID                       -0.060426  \n",
       "average_rating                0.695883  \n",
       "isbn13                        0.005067  \n",
       "  num_pages                   0.048601  \n",
       "ratings_count                 0.059606  \n",
       "text_reviews_count            0.028978  \n",
       "publication_date              0.008655  \n",
       "language_code_encoded         0.201621  \n",
       "publisher_encoded             0.435102  \n",
       "authors_encoded               1.000000  "
      ]
     },
     "execution_count": 74,
     "metadata": {},
     "output_type": "execute_result"
    }
   ],
   "source": [
    "df.corr(numeric_only=True)"
   ]
  },
  {
   "cell_type": "code",
   "execution_count": 96,
   "id": "b2b7c8c9",
   "metadata": {},
   "outputs": [],
   "source": [
    "df_processed = df.drop(columns=[\"authors\", \"language_code\",\"publisher\",\"bookID\",\"isbn13\",\"publication_date\" ])"
   ]
  },
  {
   "cell_type": "code",
   "execution_count": 97,
   "id": "98aa18e2",
   "metadata": {},
   "outputs": [
    {
     "data": {
      "text/plain": [
       "11127"
      ]
     },
     "execution_count": 97,
     "metadata": {},
     "output_type": "execute_result"
    }
   ],
   "source": [
    "len(df)"
   ]
  },
  {
   "cell_type": "code",
   "execution_count": 98,
   "id": "653615ab",
   "metadata": {},
   "outputs": [
    {
     "data": {
      "image/png": "[encoded data removed]",
      "text/plain": [
       "<Figure size 2000x1000 with 1 Axes>"
      ]
     },
     "metadata": {},
     "output_type": "display_data"
    }
   ],
   "source": [
    "plt.figure(figsize=(20,10))\n",
    "plt.scatter(df.average_rating,df.ratings_count)\n",
    "plt.title(\"average_rating vs ratings_count\")\n",
    "plt.xlabel(\"average_rating\")\n",
    "plt.ylabel(\"ratings_count\")\n",
    "plt.show()"
   ]
  },
  {
   "cell_type": "code",
   "execution_count": 99,
   "id": "6b169118",
   "metadata": {},
   "outputs": [
    {
     "data": {
      "image/png": "[encoded data removed]",
      "text/plain": [
       "<Figure size 2000x1000 with 1 Axes>"
      ]
     },
     "metadata": {},
     "output_type": "display_data"
    }
   ],
   "source": [
    "plt.figure(figsize=(20,10))\n",
    "plt.scatter(df.average_rating,df.publisher_encoded)\n",
    "plt.title(\"average_rating vs publisher_encoded\")\n",
    "plt.xlabel(\"average_rating\")\n",
    "plt.ylabel(\"publisher_encoded\")\n",
    "plt.show()"
   ]
  },
  {
   "cell_type": "code",
   "execution_count": 100,
   "id": "8549af16",
   "metadata": {},
   "outputs": [
    {
     "data": {
      "image/png": "[encoded data removed]",
      "text/plain": [
       "<Figure size 640x480 with 1 Axes>"
      ]
     },
     "metadata": {},
     "output_type": "display_data"
    }
   ],
   "source": [
    "plt.bar(x=df.publication_date.value_counts().index,height=df.publication_date.value_counts(10))\n",
    "plt.show()"
   ]
  },
  {
   "cell_type": "code",
   "execution_count": 101,
   "id": "312eda85",
   "metadata": {
    "scrolled": true
   },
   "outputs": [
    {
     "ename": "AttributeError",
     "evalue": "'DataFrame' object has no attribute 'num_pages'",
     "output_type": "error",
     "traceback": [
      "\u001b[1;31m---------------------------------------------------------------------------\u001b[0m",
      "\u001b[1;31mAttributeError\u001b[0m                            Traceback (most recent call last)",
      "\u001b[1;32m~\\AppData\\Local\\Temp\\ipykernel_17372\\1237514280.py\u001b[0m in \u001b[0;36m?\u001b[1;34m()\u001b[0m\n\u001b[1;32m----> 1\u001b[1;33m \u001b[0msns\u001b[0m\u001b[1;33m.\u001b[0m\u001b[0mdisplot\u001b[0m\u001b[1;33m(\u001b[0m\u001b[0mdf\u001b[0m\u001b[1;33m.\u001b[0m\u001b[0mnum_pages\u001b[0m\u001b[1;33m)\u001b[0m\u001b[1;33m\u001b[0m\u001b[1;33m\u001b[0m\u001b[0m\n\u001b[0m",
      "\u001b[1;32m~\\anaconda3\\Newanaconda\\Lib\\site-packages\\pandas\\core\\generic.py\u001b[0m in \u001b[0;36m?\u001b[1;34m(self, name)\u001b[0m\n\u001b[0;32m   5985\u001b[0m             \u001b[1;32mand\u001b[0m \u001b[0mname\u001b[0m \u001b[1;32mnot\u001b[0m \u001b[1;32min\u001b[0m \u001b[0mself\u001b[0m\u001b[1;33m.\u001b[0m\u001b[0m_accessors\u001b[0m\u001b[1;33m\u001b[0m\u001b[1;33m\u001b[0m\u001b[0m\n\u001b[0;32m   5986\u001b[0m             \u001b[1;32mand\u001b[0m \u001b[0mself\u001b[0m\u001b[1;33m.\u001b[0m\u001b[0m_info_axis\u001b[0m\u001b[1;33m.\u001b[0m\u001b[0m_can_hold_identifiers_and_holds_name\u001b[0m\u001b[1;33m(\u001b[0m\u001b[0mname\u001b[0m\u001b[1;33m)\u001b[0m\u001b[1;33m\u001b[0m\u001b[1;33m\u001b[0m\u001b[0m\n\u001b[0;32m   5987\u001b[0m         ):\n\u001b[0;32m   5988\u001b[0m             \u001b[1;32mreturn\u001b[0m \u001b[0mself\u001b[0m\u001b[1;33m[\u001b[0m\u001b[0mname\u001b[0m\u001b[1;33m]\u001b[0m\u001b[1;33m\u001b[0m\u001b[1;33m\u001b[0m\u001b[0m\n\u001b[1;32m-> 5989\u001b[1;33m         \u001b[1;32mreturn\u001b[0m \u001b[0mobject\u001b[0m\u001b[1;33m.\u001b[0m\u001b[0m__getattribute__\u001b[0m\u001b[1;33m(\u001b[0m\u001b[0mself\u001b[0m\u001b[1;33m,\u001b[0m \u001b[0mname\u001b[0m\u001b[1;33m)\u001b[0m\u001b[1;33m\u001b[0m\u001b[1;33m\u001b[0m\u001b[0m\n\u001b[0m",
      "\u001b[1;31mAttributeError\u001b[0m: 'DataFrame' object has no attribute 'num_pages'"
     ]
    }
   ],
   "source": [
    "sns.displot(df.num_pages)"
   ]
  },
  {
   "cell_type": "code",
   "execution_count": null,
   "id": "aa501fb5",
   "metadata": {},
   "outputs": [],
   "source": [
    "plt.figure(figsize=(20,10))\n",
    "sns.boxplot(x=df.average_rating,y=df.ratings_count)\n",
    "plt.show()"
   ]
  },
  {
   "cell_type": "code",
   "execution_count": null,
   "id": "6702e9de",
   "metadata": {},
   "outputs": [],
   "source": [
    "sns.histplot(x=\"average_rating\",hue=\"language_code_encoded\",multiple=\"stack\",data=df)\n",
    "plt.show(50)"
   ]
  },
  {
   "cell_type": "code",
   "execution_count": 102,
   "id": "54bdef14",
   "metadata": {},
   "outputs": [
    {
     "name": "stdout",
     "output_type": "stream",
     "text": [
      "       average_rating    num_pages  ratings_count  text_reviews_count  \\\n",
      "0                3.58          236             61                   6   \n",
      "1                3.58          400             26                   4   \n",
      "2                3.46          537             56                   5   \n",
      "3                3.84          191              6                   1   \n",
      "4                3.63          342             38                   4   \n",
      "...               ...          ...            ...                 ...   \n",
      "11122            4.23          432          60162                1373   \n",
      "11123            4.14          296          41899                 746   \n",
      "11124            2.63          242            132                  18   \n",
      "11125            4.06          373           7959                 200   \n",
      "11126            4.17          336            120                   4   \n",
      "\n",
      "       language_code_encoded  publisher_encoded  authors_encoded  \n",
      "0                   3.914422           4.083471         3.887620  \n",
      "1                   3.933546           3.880631         3.887620  \n",
      "2                   3.971528           3.893397         3.860955  \n",
      "3                   3.971528           3.893397         3.852810  \n",
      "4                   3.933546           3.894126         3.894126  \n",
      "...                      ...                ...              ...  \n",
      "11122               3.933546           3.970817         4.069342  \n",
      "11123               3.933546           3.966565         4.069342  \n",
      "11124               3.933546           3.764017         3.764017  \n",
      "11125               3.933546           3.985312         3.956521  \n",
      "11126               3.933546           3.957361         3.945427  \n",
      "\n",
      "[11127 rows x 7 columns]\n"
     ]
    }
   ],
   "source": [
    "print(df_processed)"
   ]
  },
  {
   "cell_type": "code",
   "execution_count": 103,
   "id": "92935a26",
   "metadata": {},
   "outputs": [],
   "source": [
    "from sklearn.model_selection import train_test_split"
   ]
  },
  {
   "cell_type": "code",
   "execution_count": 104,
   "id": "7abc23e1",
   "metadata": {},
   "outputs": [],
   "source": [
    "df_train, df_test = train_test_split(df_processed,test_size = 0.3)"
   ]
  },
  {
   "cell_type": "code",
   "execution_count": 105,
   "id": "97788b0e",
   "metadata": {},
   "outputs": [
    {
     "data": {
      "text/plain": [
       "11127"
      ]
     },
     "execution_count": 105,
     "metadata": {},
     "output_type": "execute_result"
    }
   ],
   "source": [
    "len(df_processed)"
   ]
  },
  {
   "cell_type": "code",
   "execution_count": 106,
   "id": "4da24dcf",
   "metadata": {},
   "outputs": [
    {
     "data": {
      "text/plain": [
       "7788"
      ]
     },
     "execution_count": 106,
     "metadata": {},
     "output_type": "execute_result"
    }
   ],
   "source": [
    "len(df_train)"
   ]
  },
  {
   "cell_type": "code",
   "execution_count": 107,
   "id": "0974fe74",
   "metadata": {},
   "outputs": [
    {
     "data": {
      "text/plain": [
       "3339"
      ]
     },
     "execution_count": 107,
     "metadata": {},
     "output_type": "execute_result"
    }
   ],
   "source": [
    "len(df_test)"
   ]
  },
  {
   "cell_type": "code",
   "execution_count": 108,
   "id": "918f4a4d",
   "metadata": {},
   "outputs": [
    {
     "data": {
      "text/html": [
       "<div>\n",
       "<style scoped>\n",
       "    .dataframe tbody tr th:only-of-type {\n",
       "        vertical-align: middle;\n",
       "    }\n",
       "\n",
       "    .dataframe tbody tr th {\n",
       "        vertical-align: top;\n",
       "    }\n",
       "\n",
       "    .dataframe thead th {\n",
       "        text-align: right;\n",
       "    }\n",
       "</style>\n",
       "<table border=\"1\" class=\"dataframe\">\n",
       "  <thead>\n",
       "    <tr style=\"text-align: right;\">\n",
       "      <th></th>\n",
       "      <th>average_rating</th>\n",
       "      <th>num_pages</th>\n",
       "      <th>ratings_count</th>\n",
       "      <th>text_reviews_count</th>\n",
       "      <th>language_code_encoded</th>\n",
       "      <th>publisher_encoded</th>\n",
       "      <th>authors_encoded</th>\n",
       "    </tr>\n",
       "  </thead>\n",
       "  <tbody>\n",
       "    <tr>\n",
       "      <th>390</th>\n",
       "      <td>3.99</td>\n",
       "      <td>608</td>\n",
       "      <td>1541</td>\n",
       "      <td>131</td>\n",
       "      <td>3.933546</td>\n",
       "      <td>3.884296</td>\n",
       "      <td>3.940965</td>\n",
       "    </tr>\n",
       "    <tr>\n",
       "      <th>619</th>\n",
       "      <td>3.81</td>\n",
       "      <td>384</td>\n",
       "      <td>1614</td>\n",
       "      <td>167</td>\n",
       "      <td>3.933546</td>\n",
       "      <td>3.864335</td>\n",
       "      <td>3.921058</td>\n",
       "    </tr>\n",
       "    <tr>\n",
       "      <th>308</th>\n",
       "      <td>3.98</td>\n",
       "      <td>207</td>\n",
       "      <td>800349</td>\n",
       "      <td>18198</td>\n",
       "      <td>3.933546</td>\n",
       "      <td>3.884296</td>\n",
       "      <td>3.951606</td>\n",
       "    </tr>\n",
       "    <tr>\n",
       "      <th>8276</th>\n",
       "      <td>4.00</td>\n",
       "      <td>242</td>\n",
       "      <td>11354</td>\n",
       "      <td>404</td>\n",
       "      <td>3.914422</td>\n",
       "      <td>3.996025</td>\n",
       "      <td>3.940196</td>\n",
       "    </tr>\n",
       "    <tr>\n",
       "      <th>7299</th>\n",
       "      <td>3.58</td>\n",
       "      <td>512</td>\n",
       "      <td>1</td>\n",
       "      <td>0</td>\n",
       "      <td>3.950095</td>\n",
       "      <td>3.910420</td>\n",
       "      <td>3.857989</td>\n",
       "    </tr>\n",
       "    <tr>\n",
       "      <th>...</th>\n",
       "      <td>...</td>\n",
       "      <td>...</td>\n",
       "      <td>...</td>\n",
       "      <td>...</td>\n",
       "      <td>...</td>\n",
       "      <td>...</td>\n",
       "      <td>...</td>\n",
       "    </tr>\n",
       "    <tr>\n",
       "      <th>9996</th>\n",
       "      <td>4.30</td>\n",
       "      <td>416</td>\n",
       "      <td>1651</td>\n",
       "      <td>107</td>\n",
       "      <td>3.933546</td>\n",
       "      <td>3.897718</td>\n",
       "      <td>3.991395</td>\n",
       "    </tr>\n",
       "    <tr>\n",
       "      <th>1328</th>\n",
       "      <td>3.83</td>\n",
       "      <td>336</td>\n",
       "      <td>646</td>\n",
       "      <td>11</td>\n",
       "      <td>3.933546</td>\n",
       "      <td>3.900847</td>\n",
       "      <td>3.917112</td>\n",
       "    </tr>\n",
       "    <tr>\n",
       "      <th>9379</th>\n",
       "      <td>3.84</td>\n",
       "      <td>380</td>\n",
       "      <td>18</td>\n",
       "      <td>0</td>\n",
       "      <td>3.933546</td>\n",
       "      <td>3.851080</td>\n",
       "      <td>3.775017</td>\n",
       "    </tr>\n",
       "    <tr>\n",
       "      <th>2370</th>\n",
       "      <td>4.21</td>\n",
       "      <td>320</td>\n",
       "      <td>18141</td>\n",
       "      <td>278</td>\n",
       "      <td>3.933546</td>\n",
       "      <td>3.890375</td>\n",
       "      <td>3.994511</td>\n",
       "    </tr>\n",
       "    <tr>\n",
       "      <th>4949</th>\n",
       "      <td>3.68</td>\n",
       "      <td>158</td>\n",
       "      <td>64</td>\n",
       "      <td>16</td>\n",
       "      <td>3.933546</td>\n",
       "      <td>3.918653</td>\n",
       "      <td>3.900631</td>\n",
       "    </tr>\n",
       "  </tbody>\n",
       "</table>\n",
       "<p>7788 rows × 7 columns</p>\n",
       "</div>"
      ],
      "text/plain": [
       "      average_rating    num_pages  ratings_count  text_reviews_count  \\\n",
       "390             3.99          608           1541                 131   \n",
       "619             3.81          384           1614                 167   \n",
       "308             3.98          207         800349               18198   \n",
       "8276            4.00          242          11354                 404   \n",
       "7299            3.58          512              1                   0   \n",
       "...              ...          ...            ...                 ...   \n",
       "9996            4.30          416           1651                 107   \n",
       "1328            3.83          336            646                  11   \n",
       "9379            3.84          380             18                   0   \n",
       "2370            4.21          320          18141                 278   \n",
       "4949            3.68          158             64                  16   \n",
       "\n",
       "      language_code_encoded  publisher_encoded  authors_encoded  \n",
       "390                3.933546           3.884296         3.940965  \n",
       "619                3.933546           3.864335         3.921058  \n",
       "308                3.933546           3.884296         3.951606  \n",
       "8276               3.914422           3.996025         3.940196  \n",
       "7299               3.950095           3.910420         3.857989  \n",
       "...                     ...                ...              ...  \n",
       "9996               3.933546           3.897718         3.991395  \n",
       "1328               3.933546           3.900847         3.917112  \n",
       "9379               3.933546           3.851080         3.775017  \n",
       "2370               3.933546           3.890375         3.994511  \n",
       "4949               3.933546           3.918653         3.900631  \n",
       "\n",
       "[7788 rows x 7 columns]"
      ]
     },
     "execution_count": 108,
     "metadata": {},
     "output_type": "execute_result"
    }
   ],
   "source": [
    "df_train"
   ]
  },
  {
   "cell_type": "code",
   "execution_count": 109,
   "id": "ba1a237c",
   "metadata": {},
   "outputs": [
    {
     "name": "stdout",
     "output_type": "stream",
     "text": [
      "3.933630807944639\n",
      "3.9328492552645096\n",
      "3.9354537286612756\n"
     ]
    }
   ],
   "source": [
    "print(df_processed.average_rating.mean())\n",
    "print(df_train.average_rating.mean())\n",
    "print(df_test.average_rating.mean())"
   ]
  },
  {
   "cell_type": "code",
   "execution_count": 110,
   "id": "ab2eb3d8",
   "metadata": {},
   "outputs": [
    {
     "name": "stdout",
     "output_type": "stream",
     "text": [
      "17936.40909499416\n",
      "18911.519131997946\n",
      "15662.028451632224\n"
     ]
    }
   ],
   "source": [
    "print(df_processed.ratings_count.mean())\n",
    "print(df_train.ratings_count.mean())\n",
    "print(df_test.ratings_count.mean())"
   ]
  },
  {
   "cell_type": "code",
   "execution_count": 112,
   "id": "821b9393",
   "metadata": {},
   "outputs": [
    {
     "data": {
      "text/plain": [
       "Index(['average_rating', '  num_pages', 'ratings_count', 'text_reviews_count',\n",
       "       'language_code_encoded', 'publisher_encoded', 'authors_encoded'],\n",
       "      dtype='object')"
      ]
     },
     "execution_count": 112,
     "metadata": {},
     "output_type": "execute_result"
    }
   ],
   "source": [
    "df_train.columns"
   ]
  },
  {
   "cell_type": "code",
   "execution_count": 113,
   "id": "8410c279",
   "metadata": {},
   "outputs": [],
   "source": [
    "from sklearn.model_selection import train_test_split\n",
    "from sklearn.linear_model import LinearRegression\n",
    "from sklearn.metrics import mean_squared_error, r2_score"
   ]
  },
  {
   "cell_type": "code",
   "execution_count": 120,
   "id": "48e10c6b",
   "metadata": {},
   "outputs": [],
   "source": [
    "# get the values of the columns for the training data\n",
    "X_train = df_train.loc[:,[ '  num_pages', 'ratings_count', 'text_reviews_count',\n",
    "       'language_code_encoded', 'publisher_encoded', 'authors_encoded']].values\n",
    "y_train = df_train.average_rating.values"
   ]
  },
  {
   "cell_type": "code",
   "execution_count": 121,
   "id": "eab34e15",
   "metadata": {},
   "outputs": [],
   "source": [
    "X_test = df_test.loc[:,['  num_pages', 'ratings_count', 'text_reviews_count',\n",
    "       'language_code_encoded', 'publisher_encoded', 'authors_encoded']].values\n",
    "y_test = df_test.average_rating.values"
   ]
  },
  {
   "cell_type": "code",
   "execution_count": 122,
   "id": "4a8ade23",
   "metadata": {},
   "outputs": [
    {
     "data": {
      "text/html": [
       "<style>#sk-container-id-4 {color: black;}#sk-container-id-4 pre{padding: 0;}#sk-container-id-4 div.sk-toggleable {background-color: white;}#sk-container-id-4 label.sk-toggleable__label {cursor: pointer;display: block;width: 100%;margin-bottom: 0;padding: 0.3em;box-sizing: border-box;text-align: center;}#sk-container-id-4 label.sk-toggleable__label-arrow:before {content: \"▸\";float: left;margin-right: 0.25em;color: #696969;}#sk-container-id-4 label.sk-toggleable__label-arrow:hover:before {color: black;}#sk-container-id-4 div.sk-estimator:hover label.sk-toggleable__label-arrow:before {color: black;}#sk-container-id-4 div.sk-toggleable__content {max-height: 0;max-width: 0;overflow: hidden;text-align: left;background-color: #f0f8ff;}#sk-container-id-4 div.sk-toggleable__content pre {margin: 0.2em;color: black;border-radius: 0.25em;background-color: #f0f8ff;}#sk-container-id-4 input.sk-toggleable__control:checked~div.sk-toggleable__content {max-height: 200px;max-width: 100%;overflow: auto;}#sk-container-id-4 input.sk-toggleable__control:checked~label.sk-toggleable__label-arrow:before {content: \"▾\";}#sk-container-id-4 div.sk-estimator input.sk-toggleable__control:checked~label.sk-toggleable__label {background-color: #d4ebff;}#sk-container-id-4 div.sk-label input.sk-toggleable__control:checked~label.sk-toggleable__label {background-color: #d4ebff;}#sk-container-id-4 input.sk-hidden--visually {border: 0;clip: rect(1px 1px 1px 1px);clip: rect(1px, 1px, 1px, 1px);height: 1px;margin: -1px;overflow: hidden;padding: 0;position: absolute;width: 1px;}#sk-container-id-4 div.sk-estimator {font-family: monospace;background-color: #f0f8ff;border: 1px dotted black;border-radius: 0.25em;box-sizing: border-box;margin-bottom: 0.5em;}#sk-container-id-4 div.sk-estimator:hover {background-color: #d4ebff;}#sk-container-id-4 div.sk-parallel-item::after {content: \"\";width: 100%;border-bottom: 1px solid gray;flex-grow: 1;}#sk-container-id-4 div.sk-label:hover label.sk-toggleable__label {background-color: #d4ebff;}#sk-container-id-4 div.sk-serial::before {content: \"\";position: absolute;border-left: 1px solid gray;box-sizing: border-box;top: 0;bottom: 0;left: 50%;z-index: 0;}#sk-container-id-4 div.sk-serial {display: flex;flex-direction: column;align-items: center;background-color: white;padding-right: 0.2em;padding-left: 0.2em;position: relative;}#sk-container-id-4 div.sk-item {position: relative;z-index: 1;}#sk-container-id-4 div.sk-parallel {display: flex;align-items: stretch;justify-content: center;background-color: white;position: relative;}#sk-container-id-4 div.sk-item::before, #sk-container-id-4 div.sk-parallel-item::before {content: \"\";position: absolute;border-left: 1px solid gray;box-sizing: border-box;top: 0;bottom: 0;left: 50%;z-index: -1;}#sk-container-id-4 div.sk-parallel-item {display: flex;flex-direction: column;z-index: 1;position: relative;background-color: white;}#sk-container-id-4 div.sk-parallel-item:first-child::after {align-self: flex-end;width: 50%;}#sk-container-id-4 div.sk-parallel-item:last-child::after {align-self: flex-start;width: 50%;}#sk-container-id-4 div.sk-parallel-item:only-child::after {width: 0;}#sk-container-id-4 div.sk-dashed-wrapped {border: 1px dashed gray;margin: 0 0.4em 0.5em 0.4em;box-sizing: border-box;padding-bottom: 0.4em;background-color: white;}#sk-container-id-4 div.sk-label label {font-family: monospace;font-weight: bold;display: inline-block;line-height: 1.2em;}#sk-container-id-4 div.sk-label-container {text-align: center;}#sk-container-id-4 div.sk-container {/* jupyter's `normalize.less` sets `[hidden] { display: none; }` but bootstrap.min.css set `[hidden] { display: none !important; }` so we also need the `!important` here to be able to override the default hidden behavior on the sphinx rendered scikit-learn.org. See: https://github.com/scikit-learn/scikit-learn/issues/21755 */display: inline-block !important;position: relative;}#sk-container-id-4 div.sk-text-repr-fallback {display: none;}</style><div id=\"sk-container-id-4\" class=\"sk-top-container\"><div class=\"sk-text-repr-fallback\"><pre>LinearRegression()</pre><b>In a Jupyter environment, please rerun this cell to show the HTML representation or trust the notebook. <br />On GitHub, the HTML representation is unable to render, please try loading this page with nbviewer.org.</b></div><div class=\"sk-container\" hidden><div class=\"sk-item\"><div class=\"sk-estimator sk-toggleable\"><input class=\"sk-toggleable__control sk-hidden--visually\" id=\"sk-estimator-id-4\" type=\"checkbox\" checked><label for=\"sk-estimator-id-4\" class=\"sk-toggleable__label sk-toggleable__label-arrow\">LinearRegression</label><div class=\"sk-toggleable__content\"><pre>LinearRegression()</pre></div></div></div></div></div>"
      ],
      "text/plain": [
       "LinearRegression()"
      ]
     },
     "execution_count": 122,
     "metadata": {},
     "output_type": "execute_result"
    }
   ],
   "source": [
    "model = LinearRegression()\n",
    "model.fit(X_train, y_train)\n"
   ]
  },
  {
   "cell_type": "code",
   "execution_count": 123,
   "id": "43ac9753",
   "metadata": {},
   "outputs": [],
   "source": [
    "y_pred = model.predict(X_test)"
   ]
  },
  {
   "cell_type": "code",
   "execution_count": 124,
   "id": "4c7a78a9",
   "metadata": {},
   "outputs": [],
   "source": [
    "mse = mean_squared_error(y_test, y_pred)\n",
    "r2 = r2_score(y_test, y_pred)"
   ]
  },
  {
   "cell_type": "code",
   "execution_count": 125,
   "id": "931705a2",
   "metadata": {},
   "outputs": [
    {
     "name": "stdout",
     "output_type": "stream",
     "text": [
      "Mean Squared Error (MSE): 0.05599311383621186\n",
      "R-squared (R2 Score): 0.5264968530293301\n",
      "Intercept: -10.247259989137586\n",
      "Coefficients: [ 1.76973481e-04 -2.05985727e-07  9.85823466e-06 -4.01887293e-01\n",
      "  9.34382412e-01  3.05187132e+00]\n"
     ]
    }
   ],
   "source": [
    "print(f\"Mean Squared Error (MSE): {mse}\")\n",
    "print(f\"R-squared (R2 Score): {r2}\")\n",
    "\n",
    "# Optional: Displaying the coefficients\n",
    "print(f\"Intercept: {model.intercept_}\")\n",
    "print(f\"Coefficients: {model.coef_}\")"
   ]
  },
  {
   "cell_type": "code",
   "execution_count": 126,
   "id": "f1eb46a8",
   "metadata": {},
   "outputs": [
    {
     "name": "stdout",
     "output_type": "stream",
     "text": [
      "Variance score: 0.5264968530293301\n"
     ]
    }
   ],
   "source": [
    "# variance score: 1 means perfect prediction\n",
    "print('Variance score: {}'.format(model.score(X_test, y_test)))"
   ]
  },
  {
   "cell_type": "code",
   "execution_count": 128,
   "id": "cfb3a08e",
   "metadata": {},
   "outputs": [
    {
     "name": "stdout",
     "output_type": "stream",
     "text": [
      "Random Forest - Mean Squared Error (MSE): 0.029694013341130917\n",
      "Random Forest - R-squared (R2 Score): 0.7488939657054485\n"
     ]
    }
   ],
   "source": [
    "#Using Random Forest Regressor\n",
    "\n",
    "\n",
    "# Import necessary libraries\n",
    "from sklearn.ensemble import RandomForestRegressor\n",
    "from sklearn.metrics import mean_squared_error, r2_score\n",
    "\n",
    "# Initialize the Random Forest Regressor\n",
    "rf_model = RandomForestRegressor(n_estimators=100, random_state=42)\n",
    "\n",
    "# Fit the model to the training data\n",
    "rf_model.fit(X_train, y_train)\n",
    "\n",
    "# Make predictions on the test data\n",
    "y_pred_rf = rf_model.predict(X_test)\n",
    "\n",
    "# Evaluate the model\n",
    "mse_rf = mean_squared_error(y_test, y_pred_rf)\n",
    "r2_rf = r2_score(y_test, y_pred_rf)\n",
    "\n",
    "print(f\"Random Forest - Mean Squared Error (MSE): {mse_rf}\")\n",
    "print(f\"Random Forest - R-squared (R2 Score): {r2_rf}\")\n"
   ]
  },
  {
   "cell_type": "code",
   "execution_count": 130,
   "id": "34fc8614",
   "metadata": {},
   "outputs": [
    {
     "name": "stdout",
     "output_type": "stream",
     "text": [
      "Fitting 5 folds for each of 108 candidates, totalling 540 fits\n",
      "Best parameters: {'max_depth': 20, 'min_samples_leaf': 2, 'min_samples_split': 5, 'n_estimators': 300}\n",
      "Best Random Forest - Mean Squared Error (MSE): 0.029563839680159985\n",
      "Best Random Forest - R-squared (R2 Score): 0.7499947731780017\n"
     ]
    }
   ],
   "source": [
    "#Hyperparameter Tuning for Random Forest\n",
    "from sklearn.model_selection import GridSearchCV\n",
    "\n",
    "# Define the parameter grid for tuning\n",
    "param_grid = {\n",
    "    'n_estimators': [100, 200, 300],\n",
    "    'max_depth': [10, 20, 30, None],\n",
    "    'min_samples_split': [2, 5, 10],\n",
    "    'min_samples_leaf': [1, 2, 4]\n",
    "}\n",
    "\n",
    "# Initialize the Random Forest Regressor\n",
    "rf_model = RandomForestRegressor(random_state=42)\n",
    "\n",
    "# Perform Grid Search with 5-fold cross-validation\n",
    "grid_search = GridSearchCV(estimator=rf_model, param_grid=param_grid, \n",
    "                           cv=5, n_jobs=-1, verbose=2, scoring='neg_mean_squared_error')\n",
    "\n",
    "# Fit the model\n",
    "grid_search.fit(X_train, y_train)\n",
    "\n",
    "# Print best parameters\n",
    "print(f\"Best parameters: {grid_search.best_params_}\")\n",
    "\n",
    "# Get the best estimator\n",
    "best_rf_model = grid_search.best_estimator_\n",
    "\n",
    "# Make predictions using the best model\n",
    "y_pred_best_rf = best_rf_model.predict(X_test)\n",
    "\n",
    "# Evaluate the tuned model\n",
    "mse_best_rf = mean_squared_error(y_test, y_pred_best_rf)\n",
    "r2_best_rf = r2_score(y_test, y_pred_best_rf)\n",
    "\n",
    "print(f\"Best Random Forest - Mean Squared Error (MSE): {mse_best_rf}\")\n",
    "print(f\"Best Random Forest - R-squared (R2 Score): {r2_best_rf}\")\n",
    "\n"
   ]
  },
  {
   "cell_type": "code",
   "execution_count": null,
   "id": "c66cb775",
   "metadata": {},
   "outputs": [],
   "source": []
  },
  {
   "cell_type": "code",
   "execution_count": null,
   "id": "105f6574",
   "metadata": {},
   "outputs": [],
   "source": []
  }
 ],
 "metadata": {
  "kernelspec": {
   "display_name": "Python 3 (ipykernel)",
   "language": "python",
   "name": "python3"
  },
  "language_info": {
   "codemirror_mode": {
    "name": "ipython",
    "version": 3
   },
   "file_extension": ".py",
   "mimetype": "text/x-python",
   "name": "python",
   "nbconvert_exporter": "python",
   "pygments_lexer": "ipython3",
   "version": "3.11.5"
  }
 },
 "nbformat": 4,
 "nbformat_minor": 5
}
