{
 "cells": [
  {
   "cell_type": "code",
   "execution_count": 1,
   "id": "590dfa09-8143-4d07-a93a-deb904041d2e",
   "metadata": {},
   "outputs": [],
   "source": [
    "import numpy as np\n",
    "import pandas as pd\n",
    "import matplotlib.pyplot as plt\n",
    "import seaborn as sns"
   ]
  },
  {
   "cell_type": "code",
   "execution_count": 3,
   "id": "4a050b99-bfc1-4bda-857b-903d4b5baea4",
   "metadata": {},
   "outputs": [],
   "source": [
    "file_path = r'C:\\Users\\user\\Documents\\Data Analytics Path\\DSTI\\Pthyton and Machine Leaning Lab\\Project 1\\Project 1\\books.v3.2.dropped_columns.xlsx'\n",
    "df = pd.read_excel(file_path)"
   ]
  },
  {
   "cell_type": "code",
   "execution_count": 4,
   "id": "97e648b6-1bd7-45f3-a60c-4945e05e5c10",
   "metadata": {},
   "outputs": [
    {
     "data": {
      "text/html": [
       "<div>\n",
       "<style scoped>\n",
       "    .dataframe tbody tr th:only-of-type {\n",
       "        vertical-align: middle;\n",
       "    }\n",
       "\n",
       "    .dataframe tbody tr th {\n",
       "        vertical-align: top;\n",
       "    }\n",
       "\n",
       "    .dataframe thead th {\n",
       "        text-align: right;\n",
       "    }\n",
       "</style>\n",
       "<table border=\"1\" class=\"dataframe\">\n",
       "  <thead>\n",
       "    <tr style=\"text-align: right;\">\n",
       "      <th></th>\n",
       "      <th>bookID</th>\n",
       "      <th>authors</th>\n",
       "      <th>average_rating</th>\n",
       "      <th>isbn13</th>\n",
       "      <th>language_code</th>\n",
       "      <th>num_pages</th>\n",
       "      <th>ratings_count</th>\n",
       "      <th>text_reviews_count</th>\n",
       "      <th>publication_date</th>\n",
       "      <th>publisher</th>\n",
       "    </tr>\n",
       "  </thead>\n",
       "  <tbody>\n",
       "    <tr>\n",
       "      <th>0</th>\n",
       "      <td>12224</td>\n",
       "      <td>Sam Bass Warner</td>\n",
       "      <td>3.58</td>\n",
       "      <td>9780674842113</td>\n",
       "      <td>en-US</td>\n",
       "      <td>236</td>\n",
       "      <td>61</td>\n",
       "      <td>6</td>\n",
       "      <td>38097</td>\n",
       "      <td>Harvard University Press</td>\n",
       "    </tr>\n",
       "    <tr>\n",
       "      <th>1</th>\n",
       "      <td>16914</td>\n",
       "      <td>David E. Smith (Turgon of TheOneRing.net</td>\n",
       "      <td>3.58</td>\n",
       "      <td>9781593600112</td>\n",
       "      <td>eng</td>\n",
       "      <td>400</td>\n",
       "      <td>26</td>\n",
       "      <td>4</td>\n",
       "      <td>38083</td>\n",
       "      <td>Cold Spring Press</td>\n",
       "    </tr>\n",
       "    <tr>\n",
       "      <th>2</th>\n",
       "      <td>26012</td>\n",
       "      <td>Bret Easton Ellis</td>\n",
       "      <td>3.46</td>\n",
       "      <td>9782264031914</td>\n",
       "      <td>fre</td>\n",
       "      <td>537</td>\n",
       "      <td>56</td>\n",
       "      <td>5</td>\n",
       "      <td>36937</td>\n",
       "      <td>2018-10-01 00:00:00</td>\n",
       "    </tr>\n",
       "    <tr>\n",
       "      <th>3</th>\n",
       "      <td>28225</td>\n",
       "      <td>Nicholson Baker</td>\n",
       "      <td>3.84</td>\n",
       "      <td>9782264017697</td>\n",
       "      <td>fre</td>\n",
       "      <td>191</td>\n",
       "      <td>6</td>\n",
       "      <td>1</td>\n",
       "      <td>36117</td>\n",
       "      <td>2018-10-01 00:00:00</td>\n",
       "    </tr>\n",
       "    <tr>\n",
       "      <th>4</th>\n",
       "      <td>22128</td>\n",
       "      <td>James Wesley</td>\n",
       "      <td>3.63</td>\n",
       "      <td>9781563841552</td>\n",
       "      <td>eng</td>\n",
       "      <td>342</td>\n",
       "      <td>38</td>\n",
       "      <td>4</td>\n",
       "      <td>36175</td>\n",
       "      <td>Huntington House Publishers</td>\n",
       "    </tr>\n",
       "    <tr>\n",
       "      <th>5</th>\n",
       "      <td>31095</td>\n",
       "      <td>Robert M. Pirsig</td>\n",
       "      <td>3.58</td>\n",
       "      <td>9781403356208</td>\n",
       "      <td>en-GB</td>\n",
       "      <td>600</td>\n",
       "      <td>54</td>\n",
       "      <td>5</td>\n",
       "      <td>37635</td>\n",
       "      <td>1st Book Library</td>\n",
       "    </tr>\n",
       "    <tr>\n",
       "      <th>6</th>\n",
       "      <td>5478</td>\n",
       "      <td>George Orwell</td>\n",
       "      <td>4.18</td>\n",
       "      <td>9781421808321</td>\n",
       "      <td>eng</td>\n",
       "      <td>387</td>\n",
       "      <td>215</td>\n",
       "      <td>17</td>\n",
       "      <td>38534</td>\n",
       "      <td>1st World Library</td>\n",
       "    </tr>\n",
       "    <tr>\n",
       "      <th>7</th>\n",
       "      <td>31373</td>\n",
       "      <td>Elizabeth  George</td>\n",
       "      <td>4.10</td>\n",
       "      <td>9780553575101</td>\n",
       "      <td>eng</td>\n",
       "      <td>718</td>\n",
       "      <td>10608</td>\n",
       "      <td>295</td>\n",
       "      <td>36831</td>\n",
       "      <td>Bantam Books</td>\n",
       "    </tr>\n",
       "    <tr>\n",
       "      <th>8</th>\n",
       "      <td>16285</td>\n",
       "      <td>Terry Deary</td>\n",
       "      <td>4.40</td>\n",
       "      <td>9780713659894</td>\n",
       "      <td>eng</td>\n",
       "      <td>62</td>\n",
       "      <td>5</td>\n",
       "      <td>0</td>\n",
       "      <td>37195</td>\n",
       "      <td>A &amp; C Black</td>\n",
       "    </tr>\n",
       "    <tr>\n",
       "      <th>9</th>\n",
       "      <td>18843</td>\n",
       "      <td>Virginia Woolf</td>\n",
       "      <td>4.07</td>\n",
       "      <td>9780156028066</td>\n",
       "      <td>eng</td>\n",
       "      <td>216</td>\n",
       "      <td>244</td>\n",
       "      <td>13</td>\n",
       "      <td>37711</td>\n",
       "      <td>A Harvest Book</td>\n",
       "    </tr>\n",
       "  </tbody>\n",
       "</table>\n",
       "</div>"
      ],
      "text/plain": [
       "   bookID                                   authors  average_rating  \\\n",
       "0   12224                           Sam Bass Warner            3.58   \n",
       "1   16914  David E. Smith (Turgon of TheOneRing.net            3.58   \n",
       "2   26012                         Bret Easton Ellis            3.46   \n",
       "3   28225                           Nicholson Baker            3.84   \n",
       "4   22128                              James Wesley            3.63   \n",
       "5   31095                          Robert M. Pirsig            3.58   \n",
       "6    5478                             George Orwell            4.18   \n",
       "7   31373                         Elizabeth  George            4.10   \n",
       "8   16285                               Terry Deary            4.40   \n",
       "9   18843                            Virginia Woolf            4.07   \n",
       "\n",
       "          isbn13 language_code    num_pages  ratings_count  \\\n",
       "0  9780674842113         en-US          236             61   \n",
       "1  9781593600112           eng          400             26   \n",
       "2  9782264031914           fre          537             56   \n",
       "3  9782264017697           fre          191              6   \n",
       "4  9781563841552           eng          342             38   \n",
       "5  9781403356208         en-GB          600             54   \n",
       "6  9781421808321           eng          387            215   \n",
       "7  9780553575101           eng          718          10608   \n",
       "8  9780713659894           eng           62              5   \n",
       "9  9780156028066           eng          216            244   \n",
       "\n",
       "   text_reviews_count  publication_date                    publisher  \n",
       "0                   6             38097     Harvard University Press  \n",
       "1                   4             38083            Cold Spring Press  \n",
       "2                   5             36937          2018-10-01 00:00:00  \n",
       "3                   1             36117          2018-10-01 00:00:00  \n",
       "4                   4             36175  Huntington House Publishers  \n",
       "5                   5             37635             1st Book Library  \n",
       "6                  17             38534            1st World Library  \n",
       "7                 295             36831                 Bantam Books  \n",
       "8                   0             37195                  A & C Black  \n",
       "9                  13             37711               A Harvest Book  "
      ]
     },
     "execution_count": 4,
     "metadata": {},
     "output_type": "execute_result"
    }
   ],
   "source": [
    "df.head(10)\n"
   ]
  },
  {
   "cell_type": "code",
   "execution_count": 7,
   "id": "d158bf42-7c3b-4dd5-889a-2cf2e3b04191",
   "metadata": {},
   "outputs": [],
   "source": [
    "df = df.drop(columns=[\"bookID\"])"
   ]
  },
  {
   "cell_type": "code",
   "execution_count": 9,
   "id": "58c9dfc8-140d-44af-b46a-7dfb75b1085a",
   "metadata": {},
   "outputs": [
    {
     "data": {
      "text/html": [
       "<div>\n",
       "<style scoped>\n",
       "    .dataframe tbody tr th:only-of-type {\n",
       "        vertical-align: middle;\n",
       "    }\n",
       "\n",
       "    .dataframe tbody tr th {\n",
       "        vertical-align: top;\n",
       "    }\n",
       "\n",
       "    .dataframe thead th {\n",
       "        text-align: right;\n",
       "    }\n",
       "</style>\n",
       "<table border=\"1\" class=\"dataframe\">\n",
       "  <thead>\n",
       "    <tr style=\"text-align: right;\">\n",
       "      <th></th>\n",
       "      <th>average_rating</th>\n",
       "      <th>isbn13</th>\n",
       "      <th>num_pages</th>\n",
       "      <th>ratings_count</th>\n",
       "      <th>text_reviews_count</th>\n",
       "      <th>publication_date</th>\n",
       "    </tr>\n",
       "  </thead>\n",
       "  <tbody>\n",
       "    <tr>\n",
       "      <th>count</th>\n",
       "      <td>11127.000000</td>\n",
       "      <td>1.112700e+04</td>\n",
       "      <td>11127.000000</td>\n",
       "      <td>1.112700e+04</td>\n",
       "      <td>11127.000000</td>\n",
       "      <td>11127.000000</td>\n",
       "    </tr>\n",
       "    <tr>\n",
       "      <th>mean</th>\n",
       "      <td>3.933631</td>\n",
       "      <td>9.759888e+12</td>\n",
       "      <td>336.376921</td>\n",
       "      <td>1.793641e+04</td>\n",
       "      <td>541.854498</td>\n",
       "      <td>36768.842995</td>\n",
       "    </tr>\n",
       "    <tr>\n",
       "      <th>std</th>\n",
       "      <td>0.352445</td>\n",
       "      <td>4.428964e+11</td>\n",
       "      <td>241.127305</td>\n",
       "      <td>1.124794e+05</td>\n",
       "      <td>2576.176608</td>\n",
       "      <td>2998.495083</td>\n",
       "    </tr>\n",
       "    <tr>\n",
       "      <th>min</th>\n",
       "      <td>0.000000</td>\n",
       "      <td>8.987060e+09</td>\n",
       "      <td>0.000000</td>\n",
       "      <td>0.000000e+00</td>\n",
       "      <td>0.000000</td>\n",
       "      <td>4750.000000</td>\n",
       "    </tr>\n",
       "    <tr>\n",
       "      <th>25%</th>\n",
       "      <td>3.770000</td>\n",
       "      <td>9.780345e+12</td>\n",
       "      <td>192.000000</td>\n",
       "      <td>1.040000e+02</td>\n",
       "      <td>9.000000</td>\n",
       "      <td>35992.500000</td>\n",
       "    </tr>\n",
       "    <tr>\n",
       "      <th>50%</th>\n",
       "      <td>3.960000</td>\n",
       "      <td>9.780586e+12</td>\n",
       "      <td>299.000000</td>\n",
       "      <td>7.450000e+02</td>\n",
       "      <td>46.000000</td>\n",
       "      <td>37681.000000</td>\n",
       "    </tr>\n",
       "    <tr>\n",
       "      <th>75%</th>\n",
       "      <td>4.135000</td>\n",
       "      <td>9.780873e+12</td>\n",
       "      <td>416.000000</td>\n",
       "      <td>4.993500e+03</td>\n",
       "      <td>237.500000</td>\n",
       "      <td>38625.000000</td>\n",
       "    </tr>\n",
       "    <tr>\n",
       "      <th>max</th>\n",
       "      <td>5.000000</td>\n",
       "      <td>9.790008e+12</td>\n",
       "      <td>6576.000000</td>\n",
       "      <td>4.597666e+06</td>\n",
       "      <td>94265.000000</td>\n",
       "      <td>43921.000000</td>\n",
       "    </tr>\n",
       "  </tbody>\n",
       "</table>\n",
       "</div>"
      ],
      "text/plain": [
       "       average_rating        isbn13     num_pages  ratings_count  \\\n",
       "count    11127.000000  1.112700e+04  11127.000000   1.112700e+04   \n",
       "mean         3.933631  9.759888e+12    336.376921   1.793641e+04   \n",
       "std          0.352445  4.428964e+11    241.127305   1.124794e+05   \n",
       "min          0.000000  8.987060e+09      0.000000   0.000000e+00   \n",
       "25%          3.770000  9.780345e+12    192.000000   1.040000e+02   \n",
       "50%          3.960000  9.780586e+12    299.000000   7.450000e+02   \n",
       "75%          4.135000  9.780873e+12    416.000000   4.993500e+03   \n",
       "max          5.000000  9.790008e+12   6576.000000   4.597666e+06   \n",
       "\n",
       "       text_reviews_count  publication_date  \n",
       "count        11127.000000      11127.000000  \n",
       "mean           541.854498      36768.842995  \n",
       "std           2576.176608       2998.495083  \n",
       "min              0.000000       4750.000000  \n",
       "25%              9.000000      35992.500000  \n",
       "50%             46.000000      37681.000000  \n",
       "75%            237.500000      38625.000000  \n",
       "max          94265.000000      43921.000000  "
      ]
     },
     "execution_count": 9,
     "metadata": {},
     "output_type": "execute_result"
    }
   ],
   "source": [
    "df.describe()"
   ]
  },
  {
   "cell_type": "code",
   "execution_count": 11,
   "id": "ca24676a-ecdf-4dbf-a18c-d77176eb51e0",
   "metadata": {},
   "outputs": [
    {
     "data": {
      "text/plain": [
       "authors               0\n",
       "average_rating        0\n",
       "isbn13                0\n",
       "language_code         0\n",
       "  num_pages           0\n",
       "ratings_count         0\n",
       "text_reviews_count    0\n",
       "publication_date      0\n",
       "publisher             0\n",
       "dtype: int64"
      ]
     },
     "execution_count": 11,
     "metadata": {},
     "output_type": "execute_result"
    }
   ],
   "source": [
    "df.isna().sum()"
   ]
  },
  {
   "cell_type": "code",
   "execution_count": 13,
   "id": "20471e50-e412-4e73-abdf-34cc11d8069b",
   "metadata": {},
   "outputs": [
    {
     "name": "stdout",
     "output_type": "stream",
     "text": [
      "Index(['authors', 'average_rating', 'isbn13', 'language_code', '  num_pages',\n",
      "       'ratings_count', 'text_reviews_count', 'publication_date', 'publisher'],\n",
      "      dtype='object')\n"
     ]
    }
   ],
   "source": [
    "print(df.columns)"
   ]
  },
  {
   "cell_type": "code",
   "execution_count": 15,
   "id": "f68df4f6-145e-4044-8bf0-cfa290bf426a",
   "metadata": {},
   "outputs": [
    {
     "data": {
      "text/plain": [
       "(11127, 9)"
      ]
     },
     "execution_count": 15,
     "metadata": {},
     "output_type": "execute_result"
    }
   ],
   "source": [
    "df.shape"
   ]
  },
  {
   "cell_type": "code",
   "execution_count": 17,
   "id": "39678692-12c2-4a2e-ba99-8cfdfa27b4b8",
   "metadata": {},
   "outputs": [
    {
     "name": "stdout",
     "output_type": "stream",
     "text": [
      "35th Percentile: 3.85\n",
      "70th Percentile: 4.09\n"
     ]
    }
   ],
   "source": [
    "# Calculate the 35th and 70th percentiles\n",
    "percentile_35 = df['average_rating'].quantile(0.35)\n",
    "percentile_70 = df['average_rating'].quantile(0.70)\n",
    "\n",
    "print(f\"35th Percentile: {percentile_35}\")\n",
    "print(f\"70th Percentile: {percentile_70}\")"
   ]
  },
  {
   "cell_type": "code",
   "execution_count": 21,
   "id": "515645a3-a531-4bed-82ee-1b5315c04d54",
   "metadata": {},
   "outputs": [
    {
     "ename": "SyntaxError",
     "evalue": "invalid syntax (2367357223.py, line 1)",
     "output_type": "error",
     "traceback": [
      "\u001b[1;36m  Cell \u001b[1;32mIn[21], line 1\u001b[1;36m\u001b[0m\n\u001b[1;33m    This values show us than 35% of values are under the average_rating of 3.85, the range of the seond 35% is very small. It migth not be relevant for using as a class.\u001b[0m\n\u001b[1;37m         ^\u001b[0m\n\u001b[1;31mSyntaxError\u001b[0m\u001b[1;31m:\u001b[0m invalid syntax\n"
     ]
    }
   ],
   "source": [
    "This values show us than 35% of values are under the average_rating of 3.85, the range of the seond 35% is very small. It migth not be relevant for using as a class. "
   ]
  },
  {
   "cell_type": "code",
   "execution_count": 19,
   "id": "755b2915-e442-43a6-9ace-b5b1a216e898",
   "metadata": {},
   "outputs": [
    {
     "name": "stdout",
     "output_type": "stream",
     "text": [
      "median: 3.96\n"
     ]
    }
   ],
   "source": [
    "median_50 = df['average_rating'].quantile(0.5)\n",
    "print(f\"median: {median_50}\")"
   ]
  },
  {
   "cell_type": "code",
   "execution_count": null,
   "id": "11bab710-18c2-4f7e-9960-2ff555ae572d",
   "metadata": {},
   "outputs": [],
   "source": [
    "The median is very close to 4, meaning that if we choose to make a binary classification predicting if a book is going to be over 4 average_rating , we will have a fairly balanced data sample.\n",
    "But in this case I think we are <overfitting> the business question, however if we had a high acurracy with this model proposition it could be highly valuable to a business as they have high \n",
    "certainity that if they are investing their resources into a book promotion, they are investing in a potetial sucessfull book.\n"
   ]
  },
  {
   "cell_type": "code",
   "execution_count": 23,
   "id": "0c03e3a3-e90c-4c2b-b0b9-4e56b9c928aa",
   "metadata": {},
   "outputs": [
    {
     "data": {
      "image/png": "[encoded data removed]",
      "text/plain": [
       "<Figure size 640x480 with 1 Axes>"
      ]
     },
     "metadata": {},
     "output_type": "display_data"
    }
   ],
   "source": [
    "plt.hist(df['average_rating'], bins=50, color='lightblue', edgecolor='black')\n",
    "\n",
    "# Mark the 35th and 70th percentiles\n",
    "plt.axvline(percentile_35, color='green', linestyle='--', label='35th Percentile')\n",
    "plt.axvline(percentile_70, color='red', linestyle='--', label='70th Percentile')\n",
    "plt.axvline(median_50, color='blue', linestyle='--', label='Median')\n",
    "# Add labels and title\n",
    "plt.title('Histogram with 35th, median and 70th Percentiles')\n",
    "plt.xlabel('Variable')\n",
    "plt.ylabel('Frequency')\n",
    "plt.legend()\n",
    "\n",
    "plt.show()"
   ]
  },
  {
   "cell_type": "code",
   "execution_count": 25,
   "id": "488a1783-1fbf-415d-b0ce-ad93c9087b09",
   "metadata": {},
   "outputs": [
    {
     "name": "stdout",
     "output_type": "stream",
     "text": [
      "Authors grouped by counts:\n",
      "count\n",
      "1     2756\n",
      "2      505\n",
      "3      238\n",
      "4      157\n",
      "5      114\n",
      "6       71\n",
      "7       67\n",
      "8       55\n",
      "9       44\n",
      "10      36\n",
      "11      27\n",
      "12      18\n",
      "13      16\n",
      "14      12\n",
      "15       7\n",
      "16      12\n",
      "17      13\n",
      "18      10\n",
      "19      10\n",
      "20       4\n",
      "21       3\n",
      "22       4\n",
      "23       7\n",
      "24       1\n",
      "25       2\n",
      "26       4\n",
      "27       2\n",
      "28       2\n",
      "29       2\n",
      "30       3\n",
      "31       2\n",
      "33       2\n",
      "36       1\n",
      "37       2\n",
      "39       1\n",
      "40       2\n",
      "41       1\n",
      "43       1\n",
      "45       1\n",
      "46       1\n",
      "51       1\n",
      "82       1\n",
      "88       1\n",
      "Name: count, dtype: int64\n",
      "\n",
      "Publishers grouped by counts:\n",
      "count\n",
      "1      906\n",
      "2      295\n",
      "3      127\n",
      "4       90\n",
      "5       46\n",
      "      ... \n",
      "154      1\n",
      "165      1\n",
      "185      1\n",
      "333      1\n",
      "370      1\n",
      "Name: count, Length: 79, dtype: int64\n"
     ]
    }
   ],
   "source": [
    "# Count the occurrences of each unique author and publisher\n",
    "author_counts = df['authors'].value_counts()\n",
    "publisher_counts = df['publisher'].value_counts()\n",
    "\n",
    "# Group by the number of occurrences and count how many authors and publishers fall into each group\n",
    "author_grouped = author_counts.value_counts().sort_index()\n",
    "publisher_grouped = publisher_counts.value_counts().sort_index()\n",
    "\n",
    "print(\"Authors grouped by counts:\")\n",
    "print(author_grouped)\n",
    "\n",
    "print(\"\\nPublishers grouped by counts:\")\n",
    "print(publisher_grouped)"
   ]
  },
  {
   "cell_type": "code",
   "execution_count": 27,
   "id": "69cb95c5-10ee-4400-890c-e9684031f6e3",
   "metadata": {},
   "outputs": [
    {
     "data": {
      "image/png": "[encoded data removed]",
      "text/plain": [
       "<Figure size 1200x600 with 2 Axes>"
      ]
     },
     "metadata": {},
     "output_type": "display_data"
    }
   ],
   "source": [
    "# Create the plot for authors\n",
    "plt.figure(figsize=(12, 6))\n",
    "\n",
    "plt.subplot(1, 2, 1)  # First plot for authors\n",
    "sns.barplot(x=author_grouped.index, y=author_grouped.values, color='blue')\n",
    "plt.title('Number of Authors Grouped by Count of Occurrences')\n",
    "plt.xlabel('Count of Occurrences')\n",
    "plt.ylabel('Number of Authors')\n",
    "\n",
    "# Create the plot for publishers\n",
    "plt.subplot(1, 2, 2)  # Second plot for publishers\n",
    "sns.barplot(x=publisher_grouped.index, y=publisher_grouped.values, color='green')\n",
    "plt.title('Number of Publishers Grouped by Count of Occurrences')\n",
    "plt.xlabel('Count of Occurrences')\n",
    "plt.ylabel('Number of Publishers')\n",
    "\n",
    "plt.tight_layout()\n",
    "plt.show()"
   ]
  },
  {
   "cell_type": "code",
   "execution_count": 29,
   "id": "2f1aba4c-859a-476a-b995-2ca2b19f39a7",
   "metadata": {},
   "outputs": [
    {
     "name": "stdout",
     "output_type": "stream",
     "text": [
      "Authors with up to 2 occurrences: 3261\n",
      "Authors with more than 2 occurrences: 958\n",
      "Publishers with up to 2 occurrences: 1201\n",
      "Publishers with more than 2 occurrences: 600\n"
     ]
    }
   ],
   "source": [
    "authors_up_to_2 = author_counts[author_counts <= 2]\n",
    "authors_more_than_2 = author_counts[author_counts > 2]\n",
    "\n",
    "# Separate publishers into two groups: those with up to 2 occurrences and those with more than 2\n",
    "publishers_up_to_2 = publisher_counts[publisher_counts <= 2]\n",
    "publishers_more_than_2 = publisher_counts[publisher_counts > 2]\n",
    "\n",
    "# Get counts of each group\n",
    "authors_up_to_2_count = len(authors_up_to_2)\n",
    "authors_more_than_2_count = len(authors_more_than_2)\n",
    "\n",
    "publishers_up_to_2_count = len(publishers_up_to_2)\n",
    "publishers_more_than_2_count = len(publishers_more_than_2)\n",
    "\n",
    "print(f\"Authors with up to 2 occurrences: {authors_up_to_2_count}\")\n",
    "print(f\"Authors with more than 2 occurrences: {authors_more_than_2_count}\")\n",
    "print(f\"Publishers with up to 2 occurrences: {publishers_up_to_2_count}\")\n",
    "print(f\"Publishers with more than 2 occurrences: {publishers_more_than_2_count}\")"
   ]
  },
  {
   "cell_type": "code",
   "execution_count": 29,
   "id": "6f2c0f26-1e9f-4636-96e2-d387b837f4f6",
   "metadata": {},
   "outputs": [
    {
     "data": {
      "image/png": "[encoded data removed]",
      "text/plain": [
       "<Figure size 1200x600 with 2 Axes>"
      ]
     },
     "metadata": {},
     "output_type": "display_data"
    }
   ],
   "source": [
    "# Pie chart for authors\n",
    "plt.figure(figsize=(12, 6))\n",
    "\n",
    "plt.subplot(1, 2, 1)\n",
    "plt.pie([authors_up_to_2_count, authors_more_than_2_count], labels=['≤ 2 Occurrences', '> 2 Occurrences'], \n",
    "        autopct='%1.1f%%', colors=['skyblue', 'lightcoral'], startangle=90)\n",
    "plt.title('Authors')\n",
    "\n",
    "# Pie chart for publishers\n",
    "plt.subplot(1, 2, 2)\n",
    "plt.pie([publishers_up_to_2_count, publishers_more_than_2_count], labels=['≤ 2 Occurrences', '> 2 Occurrences'], \n",
    "        autopct='%1.1f%%', colors=['lightgreen', 'salmon'], startangle=90)\n",
    "plt.title('Publishers')\n",
    "\n",
    "plt.tight_layout()\n",
    "plt.show()"
   ]
  },
  {
   "cell_type": "code",
   "execution_count": null,
   "id": "ffe88d35-1a08-4646-a6b2-c30a36cf1841",
   "metadata": {},
   "outputs": [],
   "source": [
    "This little amount of accurences represents a real problem when using <target encoding> since we have way too many categories with little sample size that create noise in the models. \n",
    "I am going to attempt applying some target encoding techniques that could potentially reduce this phenomenom. "
   ]
  },
  {
   "cell_type": "code",
   "execution_count": null,
   "id": "056a7436-8e20-430c-86cc-bfa8ebf05ee5",
   "metadata": {},
   "outputs": [],
   "source": [
    "pip install category_encoders"
   ]
  },
  {
   "cell_type": "code",
   "execution_count": 31,
   "id": "f862e9a0-c2a1-4e1a-8b72-912a0790ec71",
   "metadata": {},
   "outputs": [
    {
     "name": "stdout",
     "output_type": "stream",
     "text": [
      "                                    authors  average_rating         isbn13  \\\n",
      "0                           Sam Bass Warner            3.58  9780674842113   \n",
      "1  David E. Smith (Turgon of TheOneRing.net            3.58  9781593600112   \n",
      "2                         Bret Easton Ellis            3.46  9782264031914   \n",
      "3                           Nicholson Baker            3.84  9782264017697   \n",
      "4                              James Wesley            3.63  9781563841552   \n",
      "\n",
      "   language_code_0  language_code_1  language_code_2  language_code_3  \\\n",
      "0                0                0                0                0   \n",
      "1                0                0                0                1   \n",
      "2                0                0                0                1   \n",
      "3                0                0                0                1   \n",
      "4                0                0                0                1   \n",
      "\n",
      "   language_code_4    num_pages  ratings_count  text_reviews_count  \\\n",
      "0                1          236             61                   6   \n",
      "1                0          400             26                   4   \n",
      "2                1          537             56                   5   \n",
      "3                1          191              6                   1   \n",
      "4                0          342             38                   4   \n",
      "\n",
      "   publication_date                    publisher  \n",
      "0             38097     Harvard University Press  \n",
      "1             38083            Cold Spring Press  \n",
      "2             36937          2018-10-01 00:00:00  \n",
      "3             36117          2018-10-01 00:00:00  \n",
      "4             36175  Huntington House Publishers  \n"
     ]
    }
   ],
   "source": [
    "import category_encoders as ce\n",
    "\n",
    "# Create a binary encoder object\n",
    "encoder = ce.BinaryEncoder(cols=['language_code'])\n",
    "\n",
    "# Fit and transform the 'language_code' column\n",
    "df = encoder.fit_transform(df)\n",
    "\n",
    "\n",
    "print(df.head())"
   ]
  },
  {
   "cell_type": "code",
   "execution_count": 39,
   "id": "4c30c203-a54b-4a25-a18a-73a4d560b9cd",
   "metadata": {},
   "outputs": [
    {
     "name": "stdout",
     "output_type": "stream",
     "text": [
      "Fold Classification Report:\n",
      "              precision    recall  f1-score   support\n",
      "\n",
      "           0       0.00      0.00      0.00        32\n",
      "           1       0.69      0.82      0.75      2090\n",
      "           2       0.69      0.53      0.60      1587\n",
      "\n",
      "    accuracy                           0.69      3709\n",
      "   macro avg       0.46      0.45      0.45      3709\n",
      "weighted avg       0.69      0.69      0.68      3709\n",
      "\n",
      "Fold Confusion Matrix:\n",
      "[[   0   30    2]\n",
      " [   5 1712  373]\n",
      " [   1  738  848]]\n",
      "\n",
      "Fold Classification Report:\n",
      "              precision    recall  f1-score   support\n",
      "\n",
      "           0       0.00      0.00      0.00        34\n",
      "           1       0.70      0.82      0.75      2111\n",
      "           2       0.69      0.54      0.61      1564\n",
      "\n",
      "    accuracy                           0.69      3709\n",
      "   macro avg       0.46      0.45      0.45      3709\n",
      "weighted avg       0.69      0.69      0.68      3709\n",
      "\n",
      "Fold Confusion Matrix:\n",
      "[[   0   33    1]\n",
      " [   8 1732  371]\n",
      " [   1  721  842]]\n",
      "\n",
      "Fold Classification Report:\n",
      "              precision    recall  f1-score   support\n",
      "\n",
      "           0       0.17      0.03      0.05        38\n",
      "           1       0.69      0.81      0.75      2087\n",
      "           2       0.69      0.54      0.61      1584\n",
      "\n",
      "    accuracy                           0.69      3709\n",
      "   macro avg       0.52      0.46      0.47      3709\n",
      "weighted avg       0.68      0.69      0.68      3709\n",
      "\n",
      "Fold Confusion Matrix:\n",
      "[[   1   35    2]\n",
      " [   4 1696  387]\n",
      " [   1  723  860]]\n",
      "\n",
      "Accuracy Scores for each fold: [0.6902129954165543, 0.6939875977352387, 0.6894041520625506]\n",
      "Average Accuracy: 0.6912015817381145\n",
      "Average Precision: 0.6864392608923433\n",
      "Average Recall: 0.6912015817381145\n",
      "Average F1 Score: 0.681665765168752\n"
     ]
    }
   ],
   "source": [
    "from category_encoders import TargetEncoder\n",
    "from sklearn.ensemble import GradientBoostingClassifier\n",
    "from sklearn.model_selection import KFold\n",
    "from sklearn.metrics import accuracy_score, classification_report, confusion_matrix\n",
    "\n",
    "\n",
    "# Categorical columns and target of encoding\n",
    "categorical_columns = ['authors', 'publisher']\n",
    "target_for_encoding = 'average_rating'  # Use 'average_rating' to encode\n",
    "\n",
    "# Step 1: Initialize KFold\n",
    "kf = KFold(n_splits=3, shuffle=True, random_state=42)\n",
    "\n",
    "# Step 2: Initialize TargetEncoder\n",
    "encoder = TargetEncoder(cols=categorical_columns)\n",
    "\n",
    "# Step 3: Create 'rating_class' (classification target) from 'average_rating' in the original DataFrame\n",
    "df['rating_class'] = pd.cut(df['average_rating'], \n",
    "                            bins=[-float('inf'), 3, 4, float('inf')], \n",
    "                            labels=[0, 1, 2])\n",
    "\n",
    "# List to store accuracy results and additional metrics\n",
    "accuracy_scores = []\n",
    "precision_list = []\n",
    "recall_list = []\n",
    "f1_list = []\n",
    "\n",
    "# Step 4: Perform cross-validation\n",
    "for train_index, test_index in kf.split(df):\n",
    "    # Split data into training and testing sets\n",
    "    X_train, X_test = df.iloc[train_index], df.iloc[test_index]\n",
    "    y_train, y_test = df['rating_class'].iloc[train_index], df['rating_class'].iloc[test_index]\n",
    "    \n",
    "    # Fit the TargetEncoder on training data using 'average_rating' as the target for encoding\n",
    "    encoder.fit(X_train[categorical_columns], X_train[target_for_encoding])\n",
    "    \n",
    "    # Transform the training and test sets\n",
    "    X_train_encoded = X_train.copy()\n",
    "    X_test_encoded = X_test.copy()\n",
    "    X_train_encoded[categorical_columns] = encoder.transform(X_train[categorical_columns])\n",
    "    X_test_encoded[categorical_columns] = encoder.transform(X_test[categorical_columns])\n",
    "    \n",
    "    # Drop irrelevant columns for the model\n",
    "    X_train_encoded = X_train_encoded.drop(columns=['average_rating', 'rating_class'])\n",
    "    X_test_encoded = X_test_encoded.drop(columns=['average_rating', 'rating_class'])\n",
    "    \n",
    "    # Initialize Gradient Boosting Classifier\n",
    "    gbc = GradientBoostingClassifier(random_state=42)\n",
    "    \n",
    "    # Train the model on the training set\n",
    "    gbc.fit(X_train_encoded, y_train)\n",
    "    \n",
    "    # Make predictions on the test set\n",
    "    y_pred = gbc.predict(X_test_encoded)\n",
    "    \n",
    "    # Evaluate the model\n",
    "    accuracy = accuracy_score(y_test, y_pred)\n",
    "    accuracy_scores.append(accuracy)\n",
    "    \n",
    "    # Calculate precision, recall, f1-score for the test set\n",
    "    report = classification_report(y_test, y_pred, output_dict=True)\n",
    "    precision_list.append(report['weighted avg']['precision'])\n",
    "    recall_list.append(report['weighted avg']['recall'])\n",
    "    f1_list.append(report['weighted avg']['f1-score'])\n",
    "    \n",
    "    # Print classification report for the fold\n",
    "    print(f\"Fold Classification Report:\\n{classification_report(y_test, y_pred)}\")\n",
    "    \n",
    "    # Print confusion matrix for the fold\n",
    "    print(f\"Fold Confusion Matrix:\\n{confusion_matrix(y_test, y_pred)}\\n\")\n",
    "\n",
    "# Output the cross-validated accuracy and other metrics\n",
    "print(\"Accuracy Scores for each fold:\", accuracy_scores)\n",
    "print(\"Average Accuracy:\", sum(accuracy_scores) / len(accuracy_scores))\n",
    "\n",
    "print(\"Average Precision:\", sum(precision_list) / len(precision_list))\n",
    "print(\"Average Recall:\", sum(recall_list) / len(recall_list))\n",
    "print(\"Average F1 Score:\", sum(f1_list) / len(f1_list))"
   ]
  },
  {
   "cell_type": "code",
   "execution_count": 42,
   "id": "f1f98c87-95c8-48ec-8c4a-a8bcdac7f251",
   "metadata": {},
   "outputs": [
    {
     "name": "stdout",
     "output_type": "stream",
     "text": [
      "Fold Classification Report:\n",
      "              precision    recall  f1-score   support\n",
      "\n",
      "           0       0.69      0.82      0.75      1267\n",
      "           1       0.69      0.52      0.59       959\n",
      "\n",
      "    accuracy                           0.69      2226\n",
      "   macro avg       0.69      0.67      0.67      2226\n",
      "weighted avg       0.69      0.69      0.68      2226\n",
      "\n",
      "Fold Confusion Matrix:\n",
      "[[1038  229]\n",
      " [ 456  503]]\n",
      "\n",
      "Fold Classification Report:\n",
      "              precision    recall  f1-score   support\n",
      "\n",
      "           0       0.73      0.82      0.77      1296\n",
      "           1       0.69      0.57      0.63       930\n",
      "\n",
      "    accuracy                           0.71      2226\n",
      "   macro avg       0.71      0.69      0.70      2226\n",
      "weighted avg       0.71      0.71      0.71      2226\n",
      "\n",
      "Fold Confusion Matrix:\n",
      "[[1060  236]\n",
      " [ 400  530]]\n",
      "\n",
      "Fold Classification Report:\n",
      "              precision    recall  f1-score   support\n",
      "\n",
      "           0       0.70      0.82      0.76      1271\n",
      "           1       0.69      0.53      0.60       954\n",
      "\n",
      "    accuracy                           0.70      2225\n",
      "   macro avg       0.70      0.68      0.68      2225\n",
      "weighted avg       0.70      0.70      0.69      2225\n",
      "\n",
      "Fold Confusion Matrix:\n",
      "[[1046  225]\n",
      " [ 446  508]]\n",
      "\n",
      "Fold Classification Report:\n",
      "              precision    recall  f1-score   support\n",
      "\n",
      "           0       0.72      0.81      0.76      1302\n",
      "           1       0.67      0.55      0.60       923\n",
      "\n",
      "    accuracy                           0.70      2225\n",
      "   macro avg       0.69      0.68      0.68      2225\n",
      "weighted avg       0.70      0.70      0.69      2225\n",
      "\n",
      "Fold Confusion Matrix:\n",
      "[[1052  250]\n",
      " [ 418  505]]\n",
      "\n",
      "Fold Classification Report:\n",
      "              precision    recall  f1-score   support\n",
      "\n",
      "           0       0.70      0.81      0.75      1256\n",
      "           1       0.69      0.55      0.61       969\n",
      "\n",
      "    accuracy                           0.70      2225\n",
      "   macro avg       0.69      0.68      0.68      2225\n",
      "weighted avg       0.70      0.70      0.69      2225\n",
      "\n",
      "Fold Confusion Matrix:\n",
      "[[1012  244]\n",
      " [ 432  537]]\n",
      "\n",
      "Accuracy Scores for each fold: [0.6922731356693621, 0.7142857142857143, 0.6984269662921349, 0.6997752808988764, 0.6961797752808989]\n",
      "Average Accuracy: 0.7001881744853973\n",
      "Average Precision: 0.698440214645996\n",
      "Average Recall: 0.7001881744853973\n",
      "Average F1 Score: 0.6936514520159622\n"
     ]
    }
   ],
   "source": [
    "# Step 1: Initialize KFold\n",
    "kf = KFold(n_splits=5, shuffle=True, random_state=42)\n",
    "\n",
    "# redefining the target as a binary target >4 and 4<\n",
    "\n",
    "df['rating_class'] = pd.cut(df['average_rating'], \n",
    "                            bins=[-float('inf'), 4, float('inf')], \n",
    "                            labels=[0, 1])\n",
    "\n",
    "# List to store accuracy results and additional metrics\n",
    "accuracy_scores = []\n",
    "precision_list = []\n",
    "recall_list = []\n",
    "f1_list = []\n",
    "\n",
    "# Step 4: Perform cross-validation\n",
    "for train_index, test_index in kf.split(df):\n",
    "    # Split data into training and testing sets\n",
    "    X_train, X_test = df.iloc[train_index], df.iloc[test_index]\n",
    "    y_train, y_test = df['rating_class'].iloc[train_index], df['rating_class'].iloc[test_index]\n",
    "    \n",
    "    # Fit the TargetEncoder on training data using 'average_rating' as the target for encoding\n",
    "    encoder.fit(X_train[categorical_columns], X_train[target_for_encoding])\n",
    "    \n",
    "    # Transform the training and test sets\n",
    "    X_train_encoded = X_train.copy()\n",
    "    X_test_encoded = X_test.copy()\n",
    "    X_train_encoded[categorical_columns] = encoder.transform(X_train[categorical_columns])\n",
    "    X_test_encoded[categorical_columns] = encoder.transform(X_test[categorical_columns])\n",
    "    \n",
    "    # Drop irrelevant columns for the model\n",
    "    X_train_encoded = X_train_encoded.drop(columns=['average_rating', 'rating_class'])\n",
    "    X_test_encoded = X_test_encoded.drop(columns=['average_rating', 'rating_class'])\n",
    "    \n",
    "    # Initialize Gradient Boosting Classifier\n",
    "    gbc = GradientBoostingClassifier(random_state=42)\n",
    "    \n",
    "    # Train the model on the training set\n",
    "    gbc.fit(X_train_encoded, y_train)\n",
    "    \n",
    "    # Make predictions on the test set\n",
    "    y_pred = gbc.predict(X_test_encoded)\n",
    "    \n",
    "    # Evaluate the model\n",
    "    accuracy = accuracy_score(y_test, y_pred)\n",
    "    accuracy_scores.append(accuracy)\n",
    "    \n",
    "    # Calculate precision, recall, f1-score for the test set\n",
    "    report = classification_report(y_test, y_pred, output_dict=True)\n",
    "    precision_list.append(report['weighted avg']['precision'])\n",
    "    recall_list.append(report['weighted avg']['recall'])\n",
    "    f1_list.append(report['weighted avg']['f1-score'])\n",
    "    \n",
    "    # Print classification report for the fold\n",
    "    print(f\"Fold Classification Report:\\n{classification_report(y_test, y_pred)}\")\n",
    "    \n",
    "    # Print confusion matrix for the fold\n",
    "    print(f\"Fold Confusion Matrix:\\n{confusion_matrix(y_test, y_pred)}\\n\")\n",
    "\n",
    "# Output the cross-validated accuracy and other metrics\n",
    "print(\"Accuracy Scores for each fold:\", accuracy_scores)\n",
    "print(\"Average Accuracy:\", sum(accuracy_scores) / len(accuracy_scores))\n",
    "\n",
    "print(\"Average Precision:\", sum(precision_list) / len(precision_list))\n",
    "print(\"Average Recall:\", sum(recall_list) / len(recall_list))\n",
    "print(\"Average F1 Score:\", sum(f1_list) / len(f1_list))"
   ]
  },
  {
   "cell_type": "code",
   "execution_count": 44,
   "id": "41327a5e-6b81-43c0-b5aa-a7d199411f23",
   "metadata": {},
   "outputs": [
    {
     "name": "stdout",
     "output_type": "stream",
     "text": [
      "Index(['authors', 'average_rating', 'isbn13', 'language_code_0',\n",
      "       'language_code_1', 'language_code_2', 'language_code_3',\n",
      "       'language_code_4', '  num_pages', 'ratings_count', 'text_reviews_count',\n",
      "       'publication_date', 'publisher', 'rating_class'],\n",
      "      dtype='object')\n"
     ]
    }
   ],
   "source": [
    "print(df.columns)"
   ]
  },
  {
   "cell_type": "code",
   "execution_count": 46,
   "id": "aecf55c6-bcd5-45a9-9312-699470322172",
   "metadata": {},
   "outputs": [
    {
     "name": "stdout",
     "output_type": "stream",
     "text": [
      "                                     authors  average_rating         isbn13  \\\n",
      "0                            Sam Bass Warner            3.58  9780674842113   \n",
      "1   David E. Smith (Turgon of TheOneRing.net            3.58  9781593600112   \n",
      "2                          Bret Easton Ellis            3.46  9782264031914   \n",
      "3                            Nicholson Baker            3.84  9782264017697   \n",
      "4                               James Wesley            3.63  9781563841552   \n",
      "5                           Robert M. Pirsig            3.58  9781403356208   \n",
      "6                              George Orwell            4.18  9781421808321   \n",
      "7                          Elizabeth  George            4.10  9780553575101   \n",
      "8                                Terry Deary            4.40  9780713659894   \n",
      "9                             Virginia Woolf            4.07  9780156028066   \n",
      "10                              Philip Dutre            4.50  9781568813073   \n",
      "11                            Hiromu Arakawa            4.50  9784757506206   \n",
      "12                            Hiromu Arakawa            4.55  9784757508552   \n",
      "13                            Hiromu Arakawa            4.56  9784757509665   \n",
      "14                            Hiromu Arakawa            4.56  9784757507913   \n",
      "15                            Hiromu Arakawa            4.57  9784757512306   \n",
      "16                          Rumiko Takahashi            4.26  9784091252081   \n",
      "17                          Rumiko Takahashi            4.27  9784091252074   \n",
      "18                          Rumiko Takahashi            4.26  9784091256447   \n",
      "19                          Rumiko Takahashi            4.29  9784091256485   \n",
      "\n",
      "    language_code_0  language_code_1  language_code_2  language_code_3  \\\n",
      "0                 0                0                0                0   \n",
      "1                 0                0                0                1   \n",
      "2                 0                0                0                1   \n",
      "3                 0                0                0                1   \n",
      "4                 0                0                0                1   \n",
      "5                 0                0                1                0   \n",
      "6                 0                0                0                1   \n",
      "7                 0                0                0                1   \n",
      "8                 0                0                0                1   \n",
      "9                 0                0                0                1   \n",
      "10                0                0                0                1   \n",
      "11                0                0                1                0   \n",
      "12                0                0                1                0   \n",
      "13                0                0                1                0   \n",
      "14                0                0                1                0   \n",
      "15                0                0                1                0   \n",
      "16                0                0                1                0   \n",
      "17                0                0                1                0   \n",
      "18                0                0                1                0   \n",
      "19                0                0                1                0   \n",
      "\n",
      "    language_code_4    num_pages  ratings_count  text_reviews_count  \\\n",
      "0                 1          236             61                   6   \n",
      "1                 0          400             26                   4   \n",
      "2                 1          537             56                   5   \n",
      "3                 1          191              6                   1   \n",
      "4                 0          342             38                   4   \n",
      "5                 0          600             54                   5   \n",
      "6                 0          387            215                  17   \n",
      "7                 0          718          10608                 295   \n",
      "8                 0           62              5                   0   \n",
      "9                 0          216            244                  13   \n",
      "10                0          366             17                   2   \n",
      "11                1          180             56                  10   \n",
      "12                1          184             20                   2   \n",
      "13                1          188             20                   1   \n",
      "14                1          182             22                   2   \n",
      "15                1          192             22                   1   \n",
      "16                1          192             16                   0   \n",
      "17                1          192             15                   0   \n",
      "18                1          192             11                   1   \n",
      "19                1          192             12                   1   \n",
      "\n",
      "    publication_date                    publisher rating_class  \n",
      "0              38097     Harvard University Press            0  \n",
      "1              38083            Cold Spring Press            0  \n",
      "2              36937          2018-10-01 00:00:00            0  \n",
      "3              36117          2018-10-01 00:00:00            0  \n",
      "4              36175  Huntington House Publishers            0  \n",
      "5              37635             1st Book Library            0  \n",
      "6              38534            1st World Library            1  \n",
      "7              36831                 Bantam Books            1  \n",
      "8              37195                  A & C Black            1  \n",
      "9              37711               A Harvest Book            1  \n",
      "10             38959                   A K PETERS            1  \n",
      "11             37276  ã‚¬ãƒ³ã‚¬ãƒ³ã‚³ãƒŸãƒƒã‚¯ã‚¹            1  \n",
      "12             37641  ã‚¬ãƒ³ã‚¬ãƒ³ã‚³ãƒŸãƒƒã‚¯ã‚¹            1  \n",
      "13             37793  ã‚¬ãƒ³ã‚¬ãƒ³ã‚³ãƒŸãƒƒã‚¯ã‚¹            1  \n",
      "14             37520  ã‚¬ãƒ³ã‚¬ãƒ³ã‚³ãƒŸãƒƒã‚¯ã‚¹            1  \n",
      "15             38190  ã‚¬ãƒ³ã‚¬ãƒ³ã‚³ãƒŸãƒƒã‚¯ã‚¹            1  \n",
      "16             36117                    å°å­¦é¤¨            1  \n",
      "17             36015                    å°å­¦é¤¨            1  \n",
      "18             37243                    å°å­¦é¤¨            1  \n",
      "19             37595                    å°å­¦é¤¨            1  \n"
     ]
    }
   ],
   "source": [
    "print(df.head(20))"
   ]
  },
  {
   "cell_type": "code",
   "execution_count": 54,
   "id": "5ca5fc21-315c-4657-9c26-7c43ca9eb8d7",
   "metadata": {},
   "outputs": [
    {
     "name": "stdout",
     "output_type": "stream",
     "text": [
      "MSE: 0.1156\n",
      "R²: 0.0991\n"
     ]
    }
   ],
   "source": [
    "from sklearn.linear_model import LinearRegression\n",
    "from sklearn.model_selection import train_test_split\n",
    "from sklearn.metrics import mean_squared_error, r2_score\n",
    "\n",
    "\n",
    "# Now 'average_rating' is used for both encoding and target forecast of the model. \n",
    "categorical_columns = ['authors', 'publisher']\n",
    "target = 'average_rating'  # Use 'average_rating' as the target for regression\n",
    "\n",
    "# Step 1: Split the data into training and testing sets (80% training, 20% testing)\n",
    "X_train, X_test, y_train, y_test = train_test_split(df, df[target], test_size=0.2, random_state=42)\n",
    "\n",
    "# Step 2: Initialize TargetEncoder\n",
    "encoder = TargetEncoder(cols=categorical_columns)\n",
    "\n",
    "# Step 3: Fit the TargetEncoder on training data using 'average_rating' as the target for encoding\n",
    "encoder.fit(X_train[categorical_columns], y_train)\n",
    "\n",
    "# Step 4: Transform the training and test sets\n",
    "X_train_encoded = X_train.copy()\n",
    "X_test_encoded = X_test.copy()\n",
    "X_train_encoded[categorical_columns] = encoder.transform(X_train[categorical_columns])\n",
    "X_test_encoded[categorical_columns] = encoder.transform(X_test[categorical_columns])\n",
    "\n",
    "# Drop irrelevant columns for the model\n",
    "X_train_encoded = X_train_encoded.drop(columns=['average_rating', 'rating_class'])\n",
    "X_test_encoded = X_test_encoded.drop(columns=['average_rating', 'rating_class'])\n",
    "\n",
    "# Step 5: Initialize Linear Regression model\n",
    "lr = LinearRegression()\n",
    "\n",
    "# Step 6: Train the model on the training set\n",
    "lr.fit(X_train_encoded, y_train)\n",
    "\n",
    "# Step 7: Make predictions on the test set\n",
    "y_pred = lr.predict(X_test_encoded)\n",
    "\n",
    "# Step 8: Evaluate the model using MSE and R²\n",
    "mse = mean_squared_error(y_test, y_pred)\n",
    "r2 = r2_score(y_test, y_pred)\n",
    "\n",
    "# Output the results\n",
    "print(f\"MSE: {mse:.4f}\")\n",
    "print(f\"R²: {r2:.4f}\")\n",
    "\n"
   ]
  },
  {
   "cell_type": "code",
   "execution_count": null,
   "id": "3e04809a-bff7-4235-962f-7303b7521619",
   "metadata": {},
   "outputs": [],
   "source": [
    "# I must have something wrong in this code, results are too poor compared to no weighted mean in ' aurhors' and 'publishers' . \n",
    "If not worng in the implementation, I  think these results imply that the original enginering of those feature was extremly overfitting the model. #"
   ]
  },
  {
   "cell_type": "code",
   "execution_count": 56,
   "id": "c9b1c19a-2c4d-4a85-b939-85eb54c51047",
   "metadata": {},
   "outputs": [
    {
     "name": "stdout",
     "output_type": "stream",
     "text": [
      "        authors         isbn13  language_code_0  language_code_1  \\\n",
      "4001   3.905776  9780060838584                0                0   \n",
      "10605  3.952669  9780802789471                0                0   \n",
      "6606   3.942332  9780140449082                0                0   \n",
      "7889   3.950067  9780679886181                0                0   \n",
      "5391   3.969583  9780786848935                0                0   \n",
      "\n",
      "       language_code_2  language_code_3  language_code_4    num_pages  \\\n",
      "4001                 0                1                0          399   \n",
      "10605                0                1                0           32   \n",
      "6606                 0                1                0          716   \n",
      "7889                 0                1                0          112   \n",
      "5391                 0                1                0           40   \n",
      "\n",
      "       ratings_count  text_reviews_count  publication_date  publisher  \n",
      "4001          190039                4922             38538   3.897782  \n",
      "10605           1773                 274             38443   3.891874  \n",
      "6606           34727                 597             37651   3.906212  \n",
      "7889             140                   8             35598   3.945729  \n",
      "5391            3500                 393             38808   3.919635  \n"
     ]
    }
   ],
   "source": [
    "print(X_train_encoded.head())"
   ]
  },
  {
   "cell_type": "code",
   "execution_count": 73,
   "id": "8b1b27b3-ae17-4524-91b6-93c670cb209a",
   "metadata": {},
   "outputs": [
    {
     "name": "stdout",
     "output_type": "stream",
     "text": [
      "Training Precision: 0.8462325264234573\n",
      "Training Recall: 0.6278775613458133\n",
      "Test Precision: 0.7168141592920354\n",
      "Test Recall: 0.4045954045954046\n"
     ]
    }
   ],
   "source": [
    "from sklearn.metrics import precision_score, recall_score\n",
    "\n",
    "# Define a threshold\n",
    "threshold = 4\n",
    "\n",
    "# Convert regression predictions and true values to binary classification\n",
    "y_train_pred = lr.predict(X_train_encoded)\n",
    "y_train_binary = (y_train >= threshold).astype(int)\n",
    "y_train_pred_binary = (y_train_pred >= threshold).astype(int)\n",
    "\n",
    "y_test_pred = lr.predict(X_test_encoded)\n",
    "y_test_binary = (y_test >= threshold).astype(int)\n",
    "y_test_pred_binary = (y_test_pred >= threshold).astype(int)\n",
    "\n",
    "# Calculate precision and recall\n",
    "precision_train = precision_score(y_train_binary, y_train_pred_binary)\n",
    "recall_train = recall_score(y_train_binary, y_train_pred_binary)\n",
    "\n",
    "precision_test = precision_score(y_test_binary, y_test_pred_binary)\n",
    "recall_test = recall_score(y_test_binary, y_test_pred_binary)\n",
    "\n",
    "print(f\"Training Precision: {precision_train}\")\n",
    "print(f\"Training Recall: {recall_train}\")\n",
    "print(f\"Test Precision: {precision_test}\")\n",
    "print(f\"Test Recall: {recall_test}\")\n"
   ]
  },
  {
   "cell_type": "code",
   "execution_count": 51,
   "id": "de071019-63ba-403b-82c5-91f58f5b20ae",
   "metadata": {},
   "outputs": [
    {
     "data": {
      "text/html": [
       "<style>#sk-container-id-1 {color: black;background-color: white;}#sk-container-id-1 pre{padding: 0;}#sk-container-id-1 div.sk-toggleable {background-color: white;}#sk-container-id-1 label.sk-toggleable__label {cursor: pointer;display: block;width: 100%;margin-bottom: 0;padding: 0.3em;box-sizing: border-box;text-align: center;}#sk-container-id-1 label.sk-toggleable__label-arrow:before {content: \"▸\";float: left;margin-right: 0.25em;color: #696969;}#sk-container-id-1 label.sk-toggleable__label-arrow:hover:before {color: black;}#sk-container-id-1 div.sk-estimator:hover label.sk-toggleable__label-arrow:before {color: black;}#sk-container-id-1 div.sk-toggleable__content {max-height: 0;max-width: 0;overflow: hidden;text-align: left;background-color: #f0f8ff;}#sk-container-id-1 div.sk-toggleable__content pre {margin: 0.2em;color: black;border-radius: 0.25em;background-color: #f0f8ff;}#sk-container-id-1 input.sk-toggleable__control:checked~div.sk-toggleable__content {max-height: 200px;max-width: 100%;overflow: auto;}#sk-container-id-1 input.sk-toggleable__control:checked~label.sk-toggleable__label-arrow:before {content: \"▾\";}#sk-container-id-1 div.sk-estimator input.sk-toggleable__control:checked~label.sk-toggleable__label {background-color: #d4ebff;}#sk-container-id-1 div.sk-label input.sk-toggleable__control:checked~label.sk-toggleable__label {background-color: #d4ebff;}#sk-container-id-1 input.sk-hidden--visually {border: 0;clip: rect(1px 1px 1px 1px);clip: rect(1px, 1px, 1px, 1px);height: 1px;margin: -1px;overflow: hidden;padding: 0;position: absolute;width: 1px;}#sk-container-id-1 div.sk-estimator {font-family: monospace;background-color: #f0f8ff;border: 1px dotted black;border-radius: 0.25em;box-sizing: border-box;margin-bottom: 0.5em;}#sk-container-id-1 div.sk-estimator:hover {background-color: #d4ebff;}#sk-container-id-1 div.sk-parallel-item::after {content: \"\";width: 100%;border-bottom: 1px solid gray;flex-grow: 1;}#sk-container-id-1 div.sk-label:hover label.sk-toggleable__label {background-color: #d4ebff;}#sk-container-id-1 div.sk-serial::before {content: \"\";position: absolute;border-left: 1px solid gray;box-sizing: border-box;top: 0;bottom: 0;left: 50%;z-index: 0;}#sk-container-id-1 div.sk-serial {display: flex;flex-direction: column;align-items: center;background-color: white;padding-right: 0.2em;padding-left: 0.2em;position: relative;}#sk-container-id-1 div.sk-item {position: relative;z-index: 1;}#sk-container-id-1 div.sk-parallel {display: flex;align-items: stretch;justify-content: center;background-color: white;position: relative;}#sk-container-id-1 div.sk-item::before, #sk-container-id-1 div.sk-parallel-item::before {content: \"\";position: absolute;border-left: 1px solid gray;box-sizing: border-box;top: 0;bottom: 0;left: 50%;z-index: -1;}#sk-container-id-1 div.sk-parallel-item {display: flex;flex-direction: column;z-index: 1;position: relative;background-color: white;}#sk-container-id-1 div.sk-parallel-item:first-child::after {align-self: flex-end;width: 50%;}#sk-container-id-1 div.sk-parallel-item:last-child::after {align-self: flex-start;width: 50%;}#sk-container-id-1 div.sk-parallel-item:only-child::after {width: 0;}#sk-container-id-1 div.sk-dashed-wrapped {border: 1px dashed gray;margin: 0 0.4em 0.5em 0.4em;box-sizing: border-box;padding-bottom: 0.4em;background-color: white;}#sk-container-id-1 div.sk-label label {font-family: monospace;font-weight: bold;display: inline-block;line-height: 1.2em;}#sk-container-id-1 div.sk-label-container {text-align: center;}#sk-container-id-1 div.sk-container {/* jupyter's `normalize.less` sets `[hidden] { display: none; }` but bootstrap.min.css set `[hidden] { display: none !important; }` so we also need the `!important` here to be able to override the default hidden behavior on the sphinx rendered scikit-learn.org. See: https://github.com/scikit-learn/scikit-learn/issues/21755 */display: inline-block !important;position: relative;}#sk-container-id-1 div.sk-text-repr-fallback {display: none;}</style><div id=\"sk-container-id-1\" class=\"sk-top-container\"><div class=\"sk-text-repr-fallback\"><pre>LinearRegression()</pre><b>In a Jupyter environment, please rerun this cell to show the HTML representation or trust the notebook. <br />On GitHub, the HTML representation is unable to render, please try loading this page with nbviewer.org.</b></div><div class=\"sk-container\" hidden><div class=\"sk-item\"><div class=\"sk-estimator sk-toggleable\"><input class=\"sk-toggleable__control sk-hidden--visually\" id=\"sk-estimator-id-1\" type=\"checkbox\" checked><label for=\"sk-estimator-id-1\" class=\"sk-toggleable__label sk-toggleable__label-arrow\">LinearRegression</label><div class=\"sk-toggleable__content\"><pre>LinearRegression()</pre></div></div></div></div></div>"
      ],
      "text/plain": [
       "LinearRegression()"
      ]
     },
     "execution_count": 51,
     "metadata": {},
     "output_type": "execute_result"
    }
   ],
   "source": [
    "#This are the results from the initial model run by simply applying the average score unadultered. If you run it now it will give you error!\n",
    "\n",
    "model = LinearRegression()\n",
    "model.fit(X_train, y_train)\n"
   ]
  },
  {
   "cell_type": "code",
   "execution_count": 53,
   "id": "1dbbcb28-04bd-4e1a-8bfa-6270b10510c0",
   "metadata": {},
   "outputs": [],
   "source": [
    "y_pred = model.predict(X_test)"
   ]
  },
  {
   "cell_type": "code",
   "execution_count": 55,
   "id": "ceeed3f4-4b8c-4899-834a-021bfd73747c",
   "metadata": {},
   "outputs": [],
   "source": [
    "mse = mean_squared_error(y_test, y_pred)\n",
    "r2 = r2_score(y_test, y_pred)"
   ]
  },
  {
   "cell_type": "code",
   "execution_count": 57,
   "id": "2dfebfb0-91ff-414b-8252-43bd7462239e",
   "metadata": {},
   "outputs": [
    {
     "name": "stdout",
     "output_type": "stream",
     "text": [
      "Mean Squared Error (MSE): 0.030707780548975466\n",
      "R-squared (R2 Score): 0.7592980701816194\n",
      "Intercept: -0.3771229480817153\n",
      "Coefficients: [ 7.79782895e-17  3.00861705e-02  1.66810186e-03  2.04536927e-02\n",
      "  1.20558069e-02  8.79253722e-03  1.40430882e-04 -1.37062272e-08\n",
      "  2.81573808e-06 -3.07266988e-06  2.33138707e-01  8.75931171e-01]\n"
     ]
    }
   ],
   "source": [
    "print(f\"Mean Squared Error (MSE): {mse}\")\n",
    "print(f\"R-squared (R2 Score): {r2}\")\n",
    "\n",
    "# Optional: Displaying the coefficients\n",
    "print(f\"Intercept: {model.intercept_}\")\n",
    "print(f\"Coefficients: {model.coef_}\")"
   ]
  },
  {
   "cell_type": "code",
   "execution_count": 59,
   "id": "aa1150d8-1b91-48ec-9f6d-37bf8688ba51",
   "metadata": {},
   "outputs": [
    {
     "name": "stdout",
     "output_type": "stream",
     "text": [
      "Variance score: 0.7592980701816194\n"
     ]
    }
   ],
   "source": [
    "# variance score: 1 means perfect prediction\n",
    "print('Variance score: {}'.format(model.score(X_test, y_test)))"
   ]
  },
  {
   "cell_type": "code",
   "execution_count": 61,
   "id": "ce38c928-664a-4d40-ab04-a4a6fe93344a",
   "metadata": {
    "scrolled": true
   },
   "outputs": [
    {
     "name": "stdout",
     "output_type": "stream",
     "text": [
      "Training Precision: 0.8510981912144703\n",
      "Training Recall: 0.7609009529309847\n",
      "Test Precision: 0.8457639391745112\n",
      "Test Recall: 0.7833668678739101\n"
     ]
    }
   ],
   "source": [
    "from sklearn.metrics import precision_score, recall_score\n",
    "\n",
    "# Define a threshold\n",
    "threshold = 4\n",
    "\n",
    "# Convert regression predictions and true values to binary classification\n",
    "y_train_pred = model.predict(X_train)\n",
    "y_train_binary = (y_train >= threshold).astype(int)\n",
    "y_train_pred_binary = (y_train_pred >= threshold).astype(int)\n",
    "\n",
    "y_test_pred = model.predict(X_test)\n",
    "y_test_binary = (y_test >= threshold).astype(int)\n",
    "y_test_pred_binary = (y_test_pred >= threshold).astype(int)\n",
    "\n",
    "# Calculate precision and recall\n",
    "precision_train = precision_score(y_train_binary, y_train_pred_binary)\n",
    "recall_train = recall_score(y_train_binary, y_train_pred_binary)\n",
    "\n",
    "precision_test = precision_score(y_test_binary, y_test_pred_binary)\n",
    "recall_test = recall_score(y_test_binary, y_test_pred_binary)\n",
    "\n",
    "print(f\"Training Precision: {precision_train}\")\n",
    "print(f\"Training Recall: {recall_train}\")\n",
    "print(f\"Test Precision: {precision_test}\")\n",
    "print(f\"Test Recall: {recall_test}\")\n"
   ]
  },
  {
   "cell_type": "code",
   "execution_count": null,
   "id": "a76161e9-cac6-424e-95c3-d479e92ca59a",
   "metadata": {},
   "outputs": [],
   "source": []
  }
 ],
 "metadata": {
  "kernelspec": {
   "display_name": "Python 3 (ipykernel)",
   "language": "python",
   "name": "python3"
  },
  "language_info": {
   "codemirror_mode": {
    "name": "ipython",
    "version": 3
   },
   "file_extension": ".py",
   "mimetype": "text/x-python",
   "name": "python",
   "nbconvert_exporter": "python",
   "pygments_lexer": "ipython3",
   "version": "3.11.7"
  }
 },
 "nbformat": 4,
 "nbformat_minor": 5
}
