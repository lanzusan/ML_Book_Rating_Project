{
 "cells": [
  {
   "cell_type": "code",
   "execution_count": 1,
   "id": "590dfa09-8143-4d07-a93a-deb904041d2e",
   "metadata": {},
   "outputs": [],
   "source": [
    "import numpy as np\n",
    "import pandas as pd\n",
    "import matplotlib.pyplot as plt\n",
    "import seaborn as sns"
   ]
  },
  {
   "cell_type": "code",
   "execution_count": 2,
   "id": "4a050b99-bfc1-4bda-857b-903d4b5baea4",
   "metadata": {},
   "outputs": [],
   "source": [
    "file_path = r'C:\\Users\\user\\Documents\\Data Analytics Path\\DSTI\\Pthyton and Machine Leaning Lab\\Project 1\\Project 1\\books.v3.2.dropped_columns.xlsx'\n",
    "df = pd.read_excel(file_path)"
   ]
  },
  {
   "cell_type": "code",
   "execution_count": 3,
   "id": "97e648b6-1bd7-45f3-a60c-4945e05e5c10",
   "metadata": {},
   "outputs": [
    {
     "data": {
      "text/html": [
       "<div>\n",
       "<style scoped>\n",
       "    .dataframe tbody tr th:only-of-type {\n",
       "        vertical-align: middle;\n",
       "    }\n",
       "\n",
       "    .dataframe tbody tr th {\n",
       "        vertical-align: top;\n",
       "    }\n",
       "\n",
       "    .dataframe thead th {\n",
       "        text-align: right;\n",
       "    }\n",
       "</style>\n",
       "<table border=\"1\" class=\"dataframe\">\n",
       "  <thead>\n",
       "    <tr style=\"text-align: right;\">\n",
       "      <th></th>\n",
       "      <th>bookID</th>\n",
       "      <th>authors</th>\n",
       "      <th>average_rating</th>\n",
       "      <th>isbn13</th>\n",
       "      <th>language_code</th>\n",
       "      <th>num_pages</th>\n",
       "      <th>ratings_count</th>\n",
       "      <th>text_reviews_count</th>\n",
       "      <th>publication_date</th>\n",
       "      <th>publisher</th>\n",
       "    </tr>\n",
       "  </thead>\n",
       "  <tbody>\n",
       "    <tr>\n",
       "      <th>0</th>\n",
       "      <td>12224</td>\n",
       "      <td>Sam Bass Warner</td>\n",
       "      <td>3.58</td>\n",
       "      <td>9780674842113</td>\n",
       "      <td>en-US</td>\n",
       "      <td>236</td>\n",
       "      <td>61</td>\n",
       "      <td>6</td>\n",
       "      <td>38097</td>\n",
       "      <td>Harvard University Press</td>\n",
       "    </tr>\n",
       "    <tr>\n",
       "      <th>1</th>\n",
       "      <td>16914</td>\n",
       "      <td>David E. Smith (Turgon of TheOneRing.net</td>\n",
       "      <td>3.58</td>\n",
       "      <td>9781593600112</td>\n",
       "      <td>eng</td>\n",
       "      <td>400</td>\n",
       "      <td>26</td>\n",
       "      <td>4</td>\n",
       "      <td>38083</td>\n",
       "      <td>Cold Spring Press</td>\n",
       "    </tr>\n",
       "    <tr>\n",
       "      <th>2</th>\n",
       "      <td>26012</td>\n",
       "      <td>Bret Easton Ellis</td>\n",
       "      <td>3.46</td>\n",
       "      <td>9782264031914</td>\n",
       "      <td>fre</td>\n",
       "      <td>537</td>\n",
       "      <td>56</td>\n",
       "      <td>5</td>\n",
       "      <td>36937</td>\n",
       "      <td>2018-10-01 00:00:00</td>\n",
       "    </tr>\n",
       "    <tr>\n",
       "      <th>3</th>\n",
       "      <td>28225</td>\n",
       "      <td>Nicholson Baker</td>\n",
       "      <td>3.84</td>\n",
       "      <td>9782264017697</td>\n",
       "      <td>fre</td>\n",
       "      <td>191</td>\n",
       "      <td>6</td>\n",
       "      <td>1</td>\n",
       "      <td>36117</td>\n",
       "      <td>2018-10-01 00:00:00</td>\n",
       "    </tr>\n",
       "    <tr>\n",
       "      <th>4</th>\n",
       "      <td>22128</td>\n",
       "      <td>James Wesley</td>\n",
       "      <td>3.63</td>\n",
       "      <td>9781563841552</td>\n",
       "      <td>eng</td>\n",
       "      <td>342</td>\n",
       "      <td>38</td>\n",
       "      <td>4</td>\n",
       "      <td>36175</td>\n",
       "      <td>Huntington House Publishers</td>\n",
       "    </tr>\n",
       "    <tr>\n",
       "      <th>5</th>\n",
       "      <td>31095</td>\n",
       "      <td>Robert M. Pirsig</td>\n",
       "      <td>3.58</td>\n",
       "      <td>9781403356208</td>\n",
       "      <td>en-GB</td>\n",
       "      <td>600</td>\n",
       "      <td>54</td>\n",
       "      <td>5</td>\n",
       "      <td>37635</td>\n",
       "      <td>1st Book Library</td>\n",
       "    </tr>\n",
       "    <tr>\n",
       "      <th>6</th>\n",
       "      <td>5478</td>\n",
       "      <td>George Orwell</td>\n",
       "      <td>4.18</td>\n",
       "      <td>9781421808321</td>\n",
       "      <td>eng</td>\n",
       "      <td>387</td>\n",
       "      <td>215</td>\n",
       "      <td>17</td>\n",
       "      <td>38534</td>\n",
       "      <td>1st World Library</td>\n",
       "    </tr>\n",
       "    <tr>\n",
       "      <th>7</th>\n",
       "      <td>31373</td>\n",
       "      <td>Elizabeth  George</td>\n",
       "      <td>4.10</td>\n",
       "      <td>9780553575101</td>\n",
       "      <td>eng</td>\n",
       "      <td>718</td>\n",
       "      <td>10608</td>\n",
       "      <td>295</td>\n",
       "      <td>36831</td>\n",
       "      <td>Bantam Books</td>\n",
       "    </tr>\n",
       "    <tr>\n",
       "      <th>8</th>\n",
       "      <td>16285</td>\n",
       "      <td>Terry Deary</td>\n",
       "      <td>4.40</td>\n",
       "      <td>9780713659894</td>\n",
       "      <td>eng</td>\n",
       "      <td>62</td>\n",
       "      <td>5</td>\n",
       "      <td>0</td>\n",
       "      <td>37195</td>\n",
       "      <td>A &amp; C Black</td>\n",
       "    </tr>\n",
       "    <tr>\n",
       "      <th>9</th>\n",
       "      <td>18843</td>\n",
       "      <td>Virginia Woolf</td>\n",
       "      <td>4.07</td>\n",
       "      <td>9780156028066</td>\n",
       "      <td>eng</td>\n",
       "      <td>216</td>\n",
       "      <td>244</td>\n",
       "      <td>13</td>\n",
       "      <td>37711</td>\n",
       "      <td>A Harvest Book</td>\n",
       "    </tr>\n",
       "  </tbody>\n",
       "</table>\n",
       "</div>"
      ],
      "text/plain": [
       "   bookID                                   authors  average_rating  \\\n",
       "0   12224                           Sam Bass Warner            3.58   \n",
       "1   16914  David E. Smith (Turgon of TheOneRing.net            3.58   \n",
       "2   26012                         Bret Easton Ellis            3.46   \n",
       "3   28225                           Nicholson Baker            3.84   \n",
       "4   22128                              James Wesley            3.63   \n",
       "5   31095                          Robert M. Pirsig            3.58   \n",
       "6    5478                             George Orwell            4.18   \n",
       "7   31373                         Elizabeth  George            4.10   \n",
       "8   16285                               Terry Deary            4.40   \n",
       "9   18843                            Virginia Woolf            4.07   \n",
       "\n",
       "          isbn13 language_code    num_pages  ratings_count  \\\n",
       "0  9780674842113         en-US          236             61   \n",
       "1  9781593600112           eng          400             26   \n",
       "2  9782264031914           fre          537             56   \n",
       "3  9782264017697           fre          191              6   \n",
       "4  9781563841552           eng          342             38   \n",
       "5  9781403356208         en-GB          600             54   \n",
       "6  9781421808321           eng          387            215   \n",
       "7  9780553575101           eng          718          10608   \n",
       "8  9780713659894           eng           62              5   \n",
       "9  9780156028066           eng          216            244   \n",
       "\n",
       "   text_reviews_count  publication_date                    publisher  \n",
       "0                   6             38097     Harvard University Press  \n",
       "1                   4             38083            Cold Spring Press  \n",
       "2                   5             36937          2018-10-01 00:00:00  \n",
       "3                   1             36117          2018-10-01 00:00:00  \n",
       "4                   4             36175  Huntington House Publishers  \n",
       "5                   5             37635             1st Book Library  \n",
       "6                  17             38534            1st World Library  \n",
       "7                 295             36831                 Bantam Books  \n",
       "8                   0             37195                  A & C Black  \n",
       "9                  13             37711               A Harvest Book  "
      ]
     },
     "execution_count": 3,
     "metadata": {},
     "output_type": "execute_result"
    }
   ],
   "source": [
    "df.head(10)\n"
   ]
  },
  {
   "cell_type": "code",
   "execution_count": 4,
   "id": "d158bf42-7c3b-4dd5-889a-2cf2e3b04191",
   "metadata": {},
   "outputs": [],
   "source": [
    "df = df.drop(columns=[\"bookID\"])"
   ]
  },
  {
   "cell_type": "code",
   "execution_count": 5,
   "id": "58c9dfc8-140d-44af-b46a-7dfb75b1085a",
   "metadata": {},
   "outputs": [
    {
     "data": {
      "text/html": [
       "<div>\n",
       "<style scoped>\n",
       "    .dataframe tbody tr th:only-of-type {\n",
       "        vertical-align: middle;\n",
       "    }\n",
       "\n",
       "    .dataframe tbody tr th {\n",
       "        vertical-align: top;\n",
       "    }\n",
       "\n",
       "    .dataframe thead th {\n",
       "        text-align: right;\n",
       "    }\n",
       "</style>\n",
       "<table border=\"1\" class=\"dataframe\">\n",
       "  <thead>\n",
       "    <tr style=\"text-align: right;\">\n",
       "      <th></th>\n",
       "      <th>average_rating</th>\n",
       "      <th>isbn13</th>\n",
       "      <th>num_pages</th>\n",
       "      <th>ratings_count</th>\n",
       "      <th>text_reviews_count</th>\n",
       "      <th>publication_date</th>\n",
       "    </tr>\n",
       "  </thead>\n",
       "  <tbody>\n",
       "    <tr>\n",
       "      <th>count</th>\n",
       "      <td>11127.000000</td>\n",
       "      <td>1.112700e+04</td>\n",
       "      <td>11127.000000</td>\n",
       "      <td>1.112700e+04</td>\n",
       "      <td>11127.000000</td>\n",
       "      <td>11127.000000</td>\n",
       "    </tr>\n",
       "    <tr>\n",
       "      <th>mean</th>\n",
       "      <td>3.933631</td>\n",
       "      <td>9.759888e+12</td>\n",
       "      <td>336.376921</td>\n",
       "      <td>1.793641e+04</td>\n",
       "      <td>541.854498</td>\n",
       "      <td>36768.842995</td>\n",
       "    </tr>\n",
       "    <tr>\n",
       "      <th>std</th>\n",
       "      <td>0.352445</td>\n",
       "      <td>4.428964e+11</td>\n",
       "      <td>241.127305</td>\n",
       "      <td>1.124794e+05</td>\n",
       "      <td>2576.176608</td>\n",
       "      <td>2998.495083</td>\n",
       "    </tr>\n",
       "    <tr>\n",
       "      <th>min</th>\n",
       "      <td>0.000000</td>\n",
       "      <td>8.987060e+09</td>\n",
       "      <td>0.000000</td>\n",
       "      <td>0.000000e+00</td>\n",
       "      <td>0.000000</td>\n",
       "      <td>4750.000000</td>\n",
       "    </tr>\n",
       "    <tr>\n",
       "      <th>25%</th>\n",
       "      <td>3.770000</td>\n",
       "      <td>9.780345e+12</td>\n",
       "      <td>192.000000</td>\n",
       "      <td>1.040000e+02</td>\n",
       "      <td>9.000000</td>\n",
       "      <td>35992.500000</td>\n",
       "    </tr>\n",
       "    <tr>\n",
       "      <th>50%</th>\n",
       "      <td>3.960000</td>\n",
       "      <td>9.780586e+12</td>\n",
       "      <td>299.000000</td>\n",
       "      <td>7.450000e+02</td>\n",
       "      <td>46.000000</td>\n",
       "      <td>37681.000000</td>\n",
       "    </tr>\n",
       "    <tr>\n",
       "      <th>75%</th>\n",
       "      <td>4.135000</td>\n",
       "      <td>9.780873e+12</td>\n",
       "      <td>416.000000</td>\n",
       "      <td>4.993500e+03</td>\n",
       "      <td>237.500000</td>\n",
       "      <td>38625.000000</td>\n",
       "    </tr>\n",
       "    <tr>\n",
       "      <th>max</th>\n",
       "      <td>5.000000</td>\n",
       "      <td>9.790008e+12</td>\n",
       "      <td>6576.000000</td>\n",
       "      <td>4.597666e+06</td>\n",
       "      <td>94265.000000</td>\n",
       "      <td>43921.000000</td>\n",
       "    </tr>\n",
       "  </tbody>\n",
       "</table>\n",
       "</div>"
      ],
      "text/plain": [
       "       average_rating        isbn13     num_pages  ratings_count  \\\n",
       "count    11127.000000  1.112700e+04  11127.000000   1.112700e+04   \n",
       "mean         3.933631  9.759888e+12    336.376921   1.793641e+04   \n",
       "std          0.352445  4.428964e+11    241.127305   1.124794e+05   \n",
       "min          0.000000  8.987060e+09      0.000000   0.000000e+00   \n",
       "25%          3.770000  9.780345e+12    192.000000   1.040000e+02   \n",
       "50%          3.960000  9.780586e+12    299.000000   7.450000e+02   \n",
       "75%          4.135000  9.780873e+12    416.000000   4.993500e+03   \n",
       "max          5.000000  9.790008e+12   6576.000000   4.597666e+06   \n",
       "\n",
       "       text_reviews_count  publication_date  \n",
       "count        11127.000000      11127.000000  \n",
       "mean           541.854498      36768.842995  \n",
       "std           2576.176608       2998.495083  \n",
       "min              0.000000       4750.000000  \n",
       "25%              9.000000      35992.500000  \n",
       "50%             46.000000      37681.000000  \n",
       "75%            237.500000      38625.000000  \n",
       "max          94265.000000      43921.000000  "
      ]
     },
     "execution_count": 5,
     "metadata": {},
     "output_type": "execute_result"
    }
   ],
   "source": [
    "df.describe()"
   ]
  },
  {
   "cell_type": "code",
   "execution_count": 6,
   "id": "ca24676a-ecdf-4dbf-a18c-d77176eb51e0",
   "metadata": {},
   "outputs": [
    {
     "data": {
      "text/plain": [
       "authors               0\n",
       "average_rating        0\n",
       "isbn13                0\n",
       "language_code         0\n",
       "  num_pages           0\n",
       "ratings_count         0\n",
       "text_reviews_count    0\n",
       "publication_date      0\n",
       "publisher             0\n",
       "dtype: int64"
      ]
     },
     "execution_count": 6,
     "metadata": {},
     "output_type": "execute_result"
    }
   ],
   "source": [
    "df.isna().sum()"
   ]
  },
  {
   "cell_type": "code",
   "execution_count": 7,
   "id": "20471e50-e412-4e73-abdf-34cc11d8069b",
   "metadata": {},
   "outputs": [
    {
     "name": "stdout",
     "output_type": "stream",
     "text": [
      "Index(['authors', 'average_rating', 'isbn13', 'language_code', '  num_pages',\n",
      "       'ratings_count', 'text_reviews_count', 'publication_date', 'publisher'],\n",
      "      dtype='object')\n"
     ]
    }
   ],
   "source": [
    "print(df.columns)"
   ]
  },
  {
   "cell_type": "code",
   "execution_count": 8,
   "id": "f68df4f6-145e-4044-8bf0-cfa290bf426a",
   "metadata": {},
   "outputs": [
    {
     "data": {
      "text/plain": [
       "(11127, 9)"
      ]
     },
     "execution_count": 8,
     "metadata": {},
     "output_type": "execute_result"
    }
   ],
   "source": [
    "df.shape"
   ]
  },
  {
   "cell_type": "code",
   "execution_count": 10,
   "id": "39678692-12c2-4a2e-ba99-8cfdfa27b4b8",
   "metadata": {},
   "outputs": [
    {
     "name": "stdout",
     "output_type": "stream",
     "text": [
      "                                    authors  average_rating         isbn13  \\\n",
      "0                           Sam Bass Warner            3.58  9780674842113   \n",
      "1  David E. Smith (Turgon of TheOneRing.net            3.58  9781593600112   \n",
      "2                         Bret Easton Ellis            3.46  9782264031914   \n",
      "3                           Nicholson Baker            3.84  9782264017697   \n",
      "4                              James Wesley            3.63  9781563841552   \n",
      "\n",
      "  language_code    num_pages  ratings_count  text_reviews_count  \\\n",
      "0         en-US          236             61                   6   \n",
      "1           eng          400             26                   4   \n",
      "2           fre          537             56                   5   \n",
      "3           fre          191              6                   1   \n",
      "4           eng          342             38                   4   \n",
      "\n",
      "   publication_date                    publisher  Publisher_Label  \n",
      "0             38097     Harvard University Press          4.10375  \n",
      "1             38083            Cold Spring Press          3.56000  \n",
      "2             36937          2018-10-01 00:00:00          3.65000  \n",
      "3             36117          2018-10-01 00:00:00          3.65000  \n",
      "4             36175  Huntington House Publishers          3.63000  \n"
     ]
    }
   ],
   "source": [
    "# Step 1: Group by Publisher and calculate the mean of average_rating\n",
    "publisher_avg_rating = df.groupby(\"publisher\")[\"average_rating\"].mean()\n",
    "\n",
    "# Step 2: Map the mean average_rating back to the original DataFrame as a label encoding for Publisher\n",
    "df[\"Publisher_Label\"] = df[\"publisher\"].map(publisher_avg_rating)\n",
    "\n",
    "# Step 3: Display the DataFrame with the new Publisher_Label column\n",
    "print(df.head())\n"
   ]
  },
  {
   "cell_type": "code",
   "execution_count": 19,
   "id": "488a1783-1fbf-415d-b0ce-ad93c9087b09",
   "metadata": {},
   "outputs": [
    {
     "name": "stdout",
     "output_type": "stream",
     "text": [
      "                                    authors  average_rating         isbn13  \\\n",
      "0                           Sam Bass Warner            3.58  9780674842113   \n",
      "1  David E. Smith (Turgon of TheOneRing.net            3.58  9781593600112   \n",
      "2                         Bret Easton Ellis            3.46  9782264031914   \n",
      "3                           Nicholson Baker            3.84  9782264017697   \n",
      "4                              James Wesley            3.63  9781563841552   \n",
      "\n",
      "  language_code    num_pages  ratings_count  text_reviews_count  \\\n",
      "0         en-US          236             61                   6   \n",
      "1           eng          400             26                   4   \n",
      "2           fre          537             56                   5   \n",
      "3           fre          191              6                   1   \n",
      "4           eng          342             38                   4   \n",
      "\n",
      "   publication_date                    publisher  Publisher_Label  \\\n",
      "0             38097     Harvard University Press          4.10375   \n",
      "1             38083            Cold Spring Press          3.56000   \n",
      "2             36937          2018-10-01 00:00:00          3.65000   \n",
      "3             36117          2018-10-01 00:00:00          3.65000   \n",
      "4             36175  Huntington House Publishers          3.63000   \n",
      "\n",
      "   Author_Label  \n",
      "0      3.580000  \n",
      "1      3.580000  \n",
      "2      3.594286  \n",
      "3      3.452500  \n",
      "4      3.630000  \n"
     ]
    }
   ],
   "source": [
    "# Step 1: Group by Author and calculate the mean of average_rating\n",
    "publisher_avg_rating = df.groupby(\"authors\")[\"average_rating\"].mean()\n",
    "\n",
    "# Step 2: Map the mean average_rating back to the original DataFrame as a label encoding for Author\n",
    "df[\"Author_Label\"] = df[\"authors\"].map(publisher_avg_rating)\n",
    "\n",
    "# Step 3: Display the DataFrame with the new Author_Label column\n",
    "print(df.head())"
   ]
  },
  {
   "cell_type": "code",
   "execution_count": 40,
   "id": "d187b646-22c5-4c8c-9377-9d7b8ce9514a",
   "metadata": {},
   "outputs": [
    {
     "name": "stdout",
     "output_type": "stream",
     "text": [
      "Collecting category_encoders\n",
      "  Downloading category_encoders-2.6.3-py2.py3-none-any.whl.metadata (8.0 kB)\n",
      "Requirement already satisfied: numpy>=1.14.0 in c:\\users\\user\\anaconda3\\lib\\site-packages (from category_encoders) (1.26.4)\n",
      "Requirement already satisfied: scikit-learn>=0.20.0 in c:\\users\\user\\anaconda3\\lib\\site-packages (from category_encoders) (1.2.2)\n",
      "Requirement already satisfied: scipy>=1.0.0 in c:\\users\\user\\anaconda3\\lib\\site-packages (from category_encoders) (1.11.4)\n",
      "Requirement already satisfied: statsmodels>=0.9.0 in c:\\users\\user\\anaconda3\\lib\\site-packages (from category_encoders) (0.14.0)\n",
      "Requirement already satisfied: pandas>=1.0.5 in c:\\users\\user\\anaconda3\\lib\\site-packages (from category_encoders) (2.1.4)\n",
      "Requirement already satisfied: patsy>=0.5.1 in c:\\users\\user\\anaconda3\\lib\\site-packages (from category_encoders) (0.5.3)\n",
      "Requirement already satisfied: python-dateutil>=2.8.2 in c:\\users\\user\\anaconda3\\lib\\site-packages (from pandas>=1.0.5->category_encoders) (2.8.2)\n",
      "Requirement already satisfied: pytz>=2020.1 in c:\\users\\user\\anaconda3\\lib\\site-packages (from pandas>=1.0.5->category_encoders) (2023.3.post1)\n",
      "Requirement already satisfied: tzdata>=2022.1 in c:\\users\\user\\anaconda3\\lib\\site-packages (from pandas>=1.0.5->category_encoders) (2023.3)\n",
      "Requirement already satisfied: six in c:\\users\\user\\anaconda3\\lib\\site-packages (from patsy>=0.5.1->category_encoders) (1.16.0)\n",
      "Requirement already satisfied: joblib>=1.1.1 in c:\\users\\user\\anaconda3\\lib\\site-packages (from scikit-learn>=0.20.0->category_encoders) (1.2.0)\n",
      "Requirement already satisfied: threadpoolctl>=2.0.0 in c:\\users\\user\\anaconda3\\lib\\site-packages (from scikit-learn>=0.20.0->category_encoders) (2.2.0)\n",
      "Requirement already satisfied: packaging>=21.3 in c:\\users\\user\\anaconda3\\lib\\site-packages (from statsmodels>=0.9.0->category_encoders) (23.1)\n",
      "Downloading category_encoders-2.6.3-py2.py3-none-any.whl (81 kB)\n",
      "   ---------------------------------------- 0.0/81.9 kB ? eta -:--:--\n",
      "   ---------------------------------------- 0.0/81.9 kB ? eta -:--:--\n",
      "   ----- ---------------------------------- 10.2/81.9 kB ? eta -:--:--\n",
      "   --------------- ------------------------ 30.7/81.9 kB 262.6 kB/s eta 0:00:01\n",
      "   ----------------------------------- ---- 71.7/81.9 kB 438.9 kB/s eta 0:00:01\n",
      "   ---------------------------------------- 81.9/81.9 kB 459.1 kB/s eta 0:00:00\n",
      "Installing collected packages: category_encoders\n",
      "Successfully installed category_encoders-2.6.3\n",
      "Note: you may need to restart the kernel to use updated packages.\n"
     ]
    }
   ],
   "source": [
    "pip install category_encoders"
   ]
  },
  {
   "cell_type": "code",
   "execution_count": 21,
   "id": "c8899a48-9742-4cc3-b9f1-2e2dcf417075",
   "metadata": {},
   "outputs": [
    {
     "name": "stdout",
     "output_type": "stream",
     "text": [
      "                                    authors  average_rating         isbn13  \\\n",
      "0                           Sam Bass Warner            3.58  9780674842113   \n",
      "1  David E. Smith (Turgon of TheOneRing.net            3.58  9781593600112   \n",
      "2                         Bret Easton Ellis            3.46  9782264031914   \n",
      "3                           Nicholson Baker            3.84  9782264017697   \n",
      "4                              James Wesley            3.63  9781563841552   \n",
      "\n",
      "   language_code_0  language_code_1  language_code_2  language_code_3  \\\n",
      "0                0                0                0                0   \n",
      "1                0                0                0                1   \n",
      "2                0                0                0                1   \n",
      "3                0                0                0                1   \n",
      "4                0                0                0                1   \n",
      "\n",
      "   language_code_4    num_pages  ratings_count  text_reviews_count  \\\n",
      "0                1          236             61                   6   \n",
      "1                0          400             26                   4   \n",
      "2                1          537             56                   5   \n",
      "3                1          191              6                   1   \n",
      "4                0          342             38                   4   \n",
      "\n",
      "   publication_date                    publisher  Publisher_Label  \\\n",
      "0             38097     Harvard University Press          4.10375   \n",
      "1             38083            Cold Spring Press          3.56000   \n",
      "2             36937          2018-10-01 00:00:00          3.65000   \n",
      "3             36117          2018-10-01 00:00:00          3.65000   \n",
      "4             36175  Huntington House Publishers          3.63000   \n",
      "\n",
      "   Author_Label  \n",
      "0      3.580000  \n",
      "1      3.580000  \n",
      "2      3.594286  \n",
      "3      3.452500  \n",
      "4      3.630000  \n"
     ]
    }
   ],
   "source": [
    "import category_encoders as ce\n",
    "\n",
    "# Create a binary encoder object\n",
    "encoder = ce.BinaryEncoder(cols=['language_code'])\n",
    "\n",
    "# Fit and transform the 'language_code' column\n",
    "df = encoder.fit_transform(df)\n",
    "\n",
    "\n",
    "print(df.head())"
   ]
  },
  {
   "cell_type": "code",
   "execution_count": 23,
   "id": "2710d7f1-7af6-4906-8132-271b40b37642",
   "metadata": {},
   "outputs": [],
   "source": [
    "df_processed = df.drop(columns=[\"authors\",\"publisher\"])"
   ]
  },
  {
   "cell_type": "code",
   "execution_count": 25,
   "id": "18df185b-9ccf-4668-8824-9baaa7db11d8",
   "metadata": {},
   "outputs": [
    {
     "name": "stdout",
     "output_type": "stream",
     "text": [
      "   average_rating         isbn13  language_code_0  language_code_1  \\\n",
      "0            3.58  9780674842113                0                0   \n",
      "1            3.58  9781593600112                0                0   \n",
      "2            3.46  9782264031914                0                0   \n",
      "3            3.84  9782264017697                0                0   \n",
      "4            3.63  9781563841552                0                0   \n",
      "\n",
      "   language_code_2  language_code_3  language_code_4    num_pages  \\\n",
      "0                0                0                1          236   \n",
      "1                0                1                0          400   \n",
      "2                0                1                1          537   \n",
      "3                0                1                1          191   \n",
      "4                0                1                0          342   \n",
      "\n",
      "   ratings_count  text_reviews_count  publication_date  Publisher_Label  \\\n",
      "0             61                   6             38097          4.10375   \n",
      "1             26                   4             38083          3.56000   \n",
      "2             56                   5             36937          3.65000   \n",
      "3              6                   1             36117          3.65000   \n",
      "4             38                   4             36175          3.63000   \n",
      "\n",
      "   Author_Label  \n",
      "0      3.580000  \n",
      "1      3.580000  \n",
      "2      3.594286  \n",
      "3      3.452500  \n",
      "4      3.630000  \n"
     ]
    }
   ],
   "source": [
    "print(df_processed.head())"
   ]
  },
  {
   "cell_type": "code",
   "execution_count": 27,
   "id": "5ca5fc21-315c-4657-9c26-7c43ca9eb8d7",
   "metadata": {},
   "outputs": [],
   "source": [
    "from sklearn.model_selection import train_test_split"
   ]
  },
  {
   "cell_type": "code",
   "execution_count": 29,
   "id": "c9b1c19a-2c4d-4a85-b939-85eb54c51047",
   "metadata": {},
   "outputs": [],
   "source": [
    "df_train, df_test = train_test_split(df_processed,test_size = 0.3)"
   ]
  },
  {
   "cell_type": "code",
   "execution_count": 31,
   "id": "8b1b27b3-ae17-4524-91b6-93c670cb209a",
   "metadata": {},
   "outputs": [
    {
     "data": {
      "text/plain": [
       "11127"
      ]
     },
     "execution_count": 31,
     "metadata": {},
     "output_type": "execute_result"
    }
   ],
   "source": [
    "len(df_processed)"
   ]
  },
  {
   "cell_type": "code",
   "execution_count": 33,
   "id": "85f8a1f2-b9a8-493a-8691-7983880e352a",
   "metadata": {},
   "outputs": [
    {
     "data": {
      "text/plain": [
       "7788"
      ]
     },
     "execution_count": 33,
     "metadata": {},
     "output_type": "execute_result"
    }
   ],
   "source": [
    "len(df_train)"
   ]
  },
  {
   "cell_type": "code",
   "execution_count": 35,
   "id": "78c4883c-ccba-4abb-9194-6d6f18272bc5",
   "metadata": {},
   "outputs": [
    {
     "data": {
      "text/plain": [
       "3339"
      ]
     },
     "execution_count": 35,
     "metadata": {},
     "output_type": "execute_result"
    }
   ],
   "source": [
    "len(df_test)"
   ]
  },
  {
   "cell_type": "code",
   "execution_count": 37,
   "id": "d8381563-03a7-43a3-b3ed-fc252bf195eb",
   "metadata": {},
   "outputs": [
    {
     "data": {
      "text/html": [
       "<div>\n",
       "<style scoped>\n",
       "    .dataframe tbody tr th:only-of-type {\n",
       "        vertical-align: middle;\n",
       "    }\n",
       "\n",
       "    .dataframe tbody tr th {\n",
       "        vertical-align: top;\n",
       "    }\n",
       "\n",
       "    .dataframe thead th {\n",
       "        text-align: right;\n",
       "    }\n",
       "</style>\n",
       "<table border=\"1\" class=\"dataframe\">\n",
       "  <thead>\n",
       "    <tr style=\"text-align: right;\">\n",
       "      <th></th>\n",
       "      <th>average_rating</th>\n",
       "      <th>isbn13</th>\n",
       "      <th>language_code_0</th>\n",
       "      <th>language_code_1</th>\n",
       "      <th>language_code_2</th>\n",
       "      <th>language_code_3</th>\n",
       "      <th>language_code_4</th>\n",
       "      <th>num_pages</th>\n",
       "      <th>ratings_count</th>\n",
       "      <th>text_reviews_count</th>\n",
       "      <th>publication_date</th>\n",
       "      <th>Publisher_Label</th>\n",
       "      <th>Author_Label</th>\n",
       "    </tr>\n",
       "  </thead>\n",
       "  <tbody>\n",
       "    <tr>\n",
       "      <th>5328</th>\n",
       "      <td>4.23</td>\n",
       "      <td>9780316156110</td>\n",
       "      <td>0</td>\n",
       "      <td>0</td>\n",
       "      <td>0</td>\n",
       "      <td>1</td>\n",
       "      <td>0</td>\n",
       "      <td>343</td>\n",
       "      <td>32876</td>\n",
       "      <td>2406</td>\n",
       "      <td>38699</td>\n",
       "      <td>3.947656</td>\n",
       "      <td>4.132000</td>\n",
       "    </tr>\n",
       "    <tr>\n",
       "      <th>4613</th>\n",
       "      <td>4.04</td>\n",
       "      <td>9780747266990</td>\n",
       "      <td>0</td>\n",
       "      <td>0</td>\n",
       "      <td>0</td>\n",
       "      <td>1</td>\n",
       "      <td>0</td>\n",
       "      <td>421</td>\n",
       "      <td>220</td>\n",
       "      <td>19</td>\n",
       "      <td>37067</td>\n",
       "      <td>3.950000</td>\n",
       "      <td>3.902093</td>\n",
       "    </tr>\n",
       "    <tr>\n",
       "      <th>7748</th>\n",
       "      <td>3.84</td>\n",
       "      <td>9788466306799</td>\n",
       "      <td>0</td>\n",
       "      <td>0</td>\n",
       "      <td>1</td>\n",
       "      <td>1</td>\n",
       "      <td>0</td>\n",
       "      <td>441</td>\n",
       "      <td>842</td>\n",
       "      <td>69</td>\n",
       "      <td>37653</td>\n",
       "      <td>3.877778</td>\n",
       "      <td>3.964706</td>\n",
       "    </tr>\n",
       "    <tr>\n",
       "      <th>1139</th>\n",
       "      <td>4.32</td>\n",
       "      <td>9781593080457</td>\n",
       "      <td>0</td>\n",
       "      <td>0</td>\n",
       "      <td>0</td>\n",
       "      <td>1</td>\n",
       "      <td>0</td>\n",
       "      <td>720</td>\n",
       "      <td>1089</td>\n",
       "      <td>202</td>\n",
       "      <td>38193</td>\n",
       "      <td>4.007333</td>\n",
       "      <td>4.197297</td>\n",
       "    </tr>\n",
       "    <tr>\n",
       "      <th>1792</th>\n",
       "      <td>3.96</td>\n",
       "      <td>9780521402408</td>\n",
       "      <td>0</td>\n",
       "      <td>0</td>\n",
       "      <td>0</td>\n",
       "      <td>1</td>\n",
       "      <td>0</td>\n",
       "      <td>504</td>\n",
       "      <td>369</td>\n",
       "      <td>22</td>\n",
       "      <td>39111</td>\n",
       "      <td>3.932985</td>\n",
       "      <td>3.938667</td>\n",
       "    </tr>\n",
       "    <tr>\n",
       "      <th>...</th>\n",
       "      <td>...</td>\n",
       "      <td>...</td>\n",
       "      <td>...</td>\n",
       "      <td>...</td>\n",
       "      <td>...</td>\n",
       "      <td>...</td>\n",
       "      <td>...</td>\n",
       "      <td>...</td>\n",
       "      <td>...</td>\n",
       "      <td>...</td>\n",
       "      <td>...</td>\n",
       "      <td>...</td>\n",
       "      <td>...</td>\n",
       "    </tr>\n",
       "    <tr>\n",
       "      <th>2904</th>\n",
       "      <td>4.00</td>\n",
       "      <td>9780486426754</td>\n",
       "      <td>0</td>\n",
       "      <td>0</td>\n",
       "      <td>0</td>\n",
       "      <td>1</td>\n",
       "      <td>0</td>\n",
       "      <td>324</td>\n",
       "      <td>87175</td>\n",
       "      <td>1875</td>\n",
       "      <td>37662</td>\n",
       "      <td>3.952022</td>\n",
       "      <td>4.000000</td>\n",
       "    </tr>\n",
       "    <tr>\n",
       "      <th>10435</th>\n",
       "      <td>3.98</td>\n",
       "      <td>9781421509242</td>\n",
       "      <td>0</td>\n",
       "      <td>0</td>\n",
       "      <td>0</td>\n",
       "      <td>1</td>\n",
       "      <td>0</td>\n",
       "      <td>185</td>\n",
       "      <td>239</td>\n",
       "      <td>5</td>\n",
       "      <td>39336</td>\n",
       "      <td>4.253197</td>\n",
       "      <td>3.987778</td>\n",
       "    </tr>\n",
       "    <tr>\n",
       "      <th>197</th>\n",
       "      <td>3.90</td>\n",
       "      <td>9780807555385</td>\n",
       "      <td>0</td>\n",
       "      <td>0</td>\n",
       "      <td>0</td>\n",
       "      <td>1</td>\n",
       "      <td>0</td>\n",
       "      <td>128</td>\n",
       "      <td>312</td>\n",
       "      <td>9</td>\n",
       "      <td>37622</td>\n",
       "      <td>3.940000</td>\n",
       "      <td>3.860000</td>\n",
       "    </tr>\n",
       "    <tr>\n",
       "      <th>1808</th>\n",
       "      <td>3.97</td>\n",
       "      <td>9780521855266</td>\n",
       "      <td>0</td>\n",
       "      <td>0</td>\n",
       "      <td>0</td>\n",
       "      <td>1</td>\n",
       "      <td>0</td>\n",
       "      <td>416</td>\n",
       "      <td>158</td>\n",
       "      <td>10</td>\n",
       "      <td>38626</td>\n",
       "      <td>3.932985</td>\n",
       "      <td>3.970000</td>\n",
       "    </tr>\n",
       "    <tr>\n",
       "      <th>3233</th>\n",
       "      <td>3.86</td>\n",
       "      <td>9780374271077</td>\n",
       "      <td>0</td>\n",
       "      <td>0</td>\n",
       "      <td>0</td>\n",
       "      <td>1</td>\n",
       "      <td>0</td>\n",
       "      <td>129</td>\n",
       "      <td>807</td>\n",
       "      <td>95</td>\n",
       "      <td>39231</td>\n",
       "      <td>3.992759</td>\n",
       "      <td>3.860000</td>\n",
       "    </tr>\n",
       "  </tbody>\n",
       "</table>\n",
       "<p>7788 rows × 13 columns</p>\n",
       "</div>"
      ],
      "text/plain": [
       "       average_rating         isbn13  language_code_0  language_code_1  \\\n",
       "5328             4.23  9780316156110                0                0   \n",
       "4613             4.04  9780747266990                0                0   \n",
       "7748             3.84  9788466306799                0                0   \n",
       "1139             4.32  9781593080457                0                0   \n",
       "1792             3.96  9780521402408                0                0   \n",
       "...               ...            ...              ...              ...   \n",
       "2904             4.00  9780486426754                0                0   \n",
       "10435            3.98  9781421509242                0                0   \n",
       "197              3.90  9780807555385                0                0   \n",
       "1808             3.97  9780521855266                0                0   \n",
       "3233             3.86  9780374271077                0                0   \n",
       "\n",
       "       language_code_2  language_code_3  language_code_4    num_pages  \\\n",
       "5328                 0                1                0          343   \n",
       "4613                 0                1                0          421   \n",
       "7748                 1                1                0          441   \n",
       "1139                 0                1                0          720   \n",
       "1792                 0                1                0          504   \n",
       "...                ...              ...              ...          ...   \n",
       "2904                 0                1                0          324   \n",
       "10435                0                1                0          185   \n",
       "197                  0                1                0          128   \n",
       "1808                 0                1                0          416   \n",
       "3233                 0                1                0          129   \n",
       "\n",
       "       ratings_count  text_reviews_count  publication_date  Publisher_Label  \\\n",
       "5328           32876                2406             38699         3.947656   \n",
       "4613             220                  19             37067         3.950000   \n",
       "7748             842                  69             37653         3.877778   \n",
       "1139            1089                 202             38193         4.007333   \n",
       "1792             369                  22             39111         3.932985   \n",
       "...              ...                 ...               ...              ...   \n",
       "2904           87175                1875             37662         3.952022   \n",
       "10435            239                   5             39336         4.253197   \n",
       "197              312                   9             37622         3.940000   \n",
       "1808             158                  10             38626         3.932985   \n",
       "3233             807                  95             39231         3.992759   \n",
       "\n",
       "       Author_Label  \n",
       "5328       4.132000  \n",
       "4613       3.902093  \n",
       "7748       3.964706  \n",
       "1139       4.197297  \n",
       "1792       3.938667  \n",
       "...             ...  \n",
       "2904       4.000000  \n",
       "10435      3.987778  \n",
       "197        3.860000  \n",
       "1808       3.970000  \n",
       "3233       3.860000  \n",
       "\n",
       "[7788 rows x 13 columns]"
      ]
     },
     "execution_count": 37,
     "metadata": {},
     "output_type": "execute_result"
    }
   ],
   "source": [
    "df_train"
   ]
  },
  {
   "cell_type": "code",
   "execution_count": 39,
   "id": "86b637e0-95e2-4260-9a38-453feceb8f92",
   "metadata": {},
   "outputs": [
    {
     "name": "stdout",
     "output_type": "stream",
     "text": [
      "3.933630807944639\n",
      "3.9343014894709816\n",
      "3.932066486972147\n"
     ]
    }
   ],
   "source": [
    "print(df_processed.average_rating.mean())\n",
    "print(df_train.average_rating.mean())\n",
    "print(df_test.average_rating.mean())"
   ]
  },
  {
   "cell_type": "code",
   "execution_count": 41,
   "id": "4d520f8c-fe5b-468d-9828-fd55c3a84be4",
   "metadata": {},
   "outputs": [
    {
     "name": "stdout",
     "output_type": "stream",
     "text": [
      "17936.40909499416\n",
      "18352.85606060606\n",
      "16965.07367475292\n"
     ]
    }
   ],
   "source": [
    "print(df_processed.ratings_count.mean())\n",
    "print(df_train.ratings_count.mean())\n",
    "print(df_test.ratings_count.mean())"
   ]
  },
  {
   "cell_type": "code",
   "execution_count": 43,
   "id": "1dd43d6b-5ebf-4824-bd4b-11e9a92c8241",
   "metadata": {},
   "outputs": [
    {
     "data": {
      "text/plain": [
       "Index(['average_rating', 'isbn13', 'language_code_0', 'language_code_1',\n",
       "       'language_code_2', 'language_code_3', 'language_code_4', '  num_pages',\n",
       "       'ratings_count', 'text_reviews_count', 'publication_date',\n",
       "       'Publisher_Label', 'Author_Label'],\n",
       "      dtype='object')"
      ]
     },
     "execution_count": 43,
     "metadata": {},
     "output_type": "execute_result"
    }
   ],
   "source": [
    "df_train.columns"
   ]
  },
  {
   "cell_type": "code",
   "execution_count": 45,
   "id": "bb0fafed-f70a-4b0d-a78f-0d553e094bf9",
   "metadata": {},
   "outputs": [],
   "source": [
    "from sklearn.model_selection import train_test_split\n",
    "from sklearn.linear_model import LinearRegression\n",
    "from sklearn.metrics import mean_squared_error, r2_score"
   ]
  },
  {
   "cell_type": "code",
   "execution_count": 47,
   "id": "34fa674d-eb50-46f7-8fe3-49729c8b771e",
   "metadata": {},
   "outputs": [],
   "source": [
    "# get the values of the columns for the training data\n",
    "X_train = df_train.loc[:,[ 'isbn13', 'language_code_0', 'language_code_1',\n",
    "       'language_code_2', 'language_code_3', 'language_code_4', '  num_pages',\n",
    "       'ratings_count', 'text_reviews_count', 'publication_date',\n",
    "       'Publisher_Label', 'Author_Label']].values\n",
    "y_train = df_train.average_rating.values"
   ]
  },
  {
   "cell_type": "code",
   "execution_count": 49,
   "id": "9b20a4cd-64b9-400a-892b-d8925b1f9619",
   "metadata": {},
   "outputs": [],
   "source": [
    "X_test = df_test.loc[:,[ 'isbn13', 'language_code_0', 'language_code_1',\n",
    "       'language_code_2', 'language_code_3', 'language_code_4', '  num_pages',\n",
    "       'ratings_count', 'text_reviews_count', 'publication_date',\n",
    "       'Publisher_Label', 'Author_Label']].values\n",
    "y_test = df_test.average_rating.values"
   ]
  },
  {
   "cell_type": "code",
   "execution_count": 51,
   "id": "de071019-63ba-403b-82c5-91f58f5b20ae",
   "metadata": {},
   "outputs": [
    {
     "data": {
      "text/html": [
       "<style>#sk-container-id-1 {color: black;background-color: white;}#sk-container-id-1 pre{padding: 0;}#sk-container-id-1 div.sk-toggleable {background-color: white;}#sk-container-id-1 label.sk-toggleable__label {cursor: pointer;display: block;width: 100%;margin-bottom: 0;padding: 0.3em;box-sizing: border-box;text-align: center;}#sk-container-id-1 label.sk-toggleable__label-arrow:before {content: \"▸\";float: left;margin-right: 0.25em;color: #696969;}#sk-container-id-1 label.sk-toggleable__label-arrow:hover:before {color: black;}#sk-container-id-1 div.sk-estimator:hover label.sk-toggleable__label-arrow:before {color: black;}#sk-container-id-1 div.sk-toggleable__content {max-height: 0;max-width: 0;overflow: hidden;text-align: left;background-color: #f0f8ff;}#sk-container-id-1 div.sk-toggleable__content pre {margin: 0.2em;color: black;border-radius: 0.25em;background-color: #f0f8ff;}#sk-container-id-1 input.sk-toggleable__control:checked~div.sk-toggleable__content {max-height: 200px;max-width: 100%;overflow: auto;}#sk-container-id-1 input.sk-toggleable__control:checked~label.sk-toggleable__label-arrow:before {content: \"▾\";}#sk-container-id-1 div.sk-estimator input.sk-toggleable__control:checked~label.sk-toggleable__label {background-color: #d4ebff;}#sk-container-id-1 div.sk-label input.sk-toggleable__control:checked~label.sk-toggleable__label {background-color: #d4ebff;}#sk-container-id-1 input.sk-hidden--visually {border: 0;clip: rect(1px 1px 1px 1px);clip: rect(1px, 1px, 1px, 1px);height: 1px;margin: -1px;overflow: hidden;padding: 0;position: absolute;width: 1px;}#sk-container-id-1 div.sk-estimator {font-family: monospace;background-color: #f0f8ff;border: 1px dotted black;border-radius: 0.25em;box-sizing: border-box;margin-bottom: 0.5em;}#sk-container-id-1 div.sk-estimator:hover {background-color: #d4ebff;}#sk-container-id-1 div.sk-parallel-item::after {content: \"\";width: 100%;border-bottom: 1px solid gray;flex-grow: 1;}#sk-container-id-1 div.sk-label:hover label.sk-toggleable__label {background-color: #d4ebff;}#sk-container-id-1 div.sk-serial::before {content: \"\";position: absolute;border-left: 1px solid gray;box-sizing: border-box;top: 0;bottom: 0;left: 50%;z-index: 0;}#sk-container-id-1 div.sk-serial {display: flex;flex-direction: column;align-items: center;background-color: white;padding-right: 0.2em;padding-left: 0.2em;position: relative;}#sk-container-id-1 div.sk-item {position: relative;z-index: 1;}#sk-container-id-1 div.sk-parallel {display: flex;align-items: stretch;justify-content: center;background-color: white;position: relative;}#sk-container-id-1 div.sk-item::before, #sk-container-id-1 div.sk-parallel-item::before {content: \"\";position: absolute;border-left: 1px solid gray;box-sizing: border-box;top: 0;bottom: 0;left: 50%;z-index: -1;}#sk-container-id-1 div.sk-parallel-item {display: flex;flex-direction: column;z-index: 1;position: relative;background-color: white;}#sk-container-id-1 div.sk-parallel-item:first-child::after {align-self: flex-end;width: 50%;}#sk-container-id-1 div.sk-parallel-item:last-child::after {align-self: flex-start;width: 50%;}#sk-container-id-1 div.sk-parallel-item:only-child::after {width: 0;}#sk-container-id-1 div.sk-dashed-wrapped {border: 1px dashed gray;margin: 0 0.4em 0.5em 0.4em;box-sizing: border-box;padding-bottom: 0.4em;background-color: white;}#sk-container-id-1 div.sk-label label {font-family: monospace;font-weight: bold;display: inline-block;line-height: 1.2em;}#sk-container-id-1 div.sk-label-container {text-align: center;}#sk-container-id-1 div.sk-container {/* jupyter's `normalize.less` sets `[hidden] { display: none; }` but bootstrap.min.css set `[hidden] { display: none !important; }` so we also need the `!important` here to be able to override the default hidden behavior on the sphinx rendered scikit-learn.org. See: https://github.com/scikit-learn/scikit-learn/issues/21755 */display: inline-block !important;position: relative;}#sk-container-id-1 div.sk-text-repr-fallback {display: none;}</style><div id=\"sk-container-id-1\" class=\"sk-top-container\"><div class=\"sk-text-repr-fallback\"><pre>LinearRegression()</pre><b>In a Jupyter environment, please rerun this cell to show the HTML representation or trust the notebook. <br />On GitHub, the HTML representation is unable to render, please try loading this page with nbviewer.org.</b></div><div class=\"sk-container\" hidden><div class=\"sk-item\"><div class=\"sk-estimator sk-toggleable\"><input class=\"sk-toggleable__control sk-hidden--visually\" id=\"sk-estimator-id-1\" type=\"checkbox\" checked><label for=\"sk-estimator-id-1\" class=\"sk-toggleable__label sk-toggleable__label-arrow\">LinearRegression</label><div class=\"sk-toggleable__content\"><pre>LinearRegression()</pre></div></div></div></div></div>"
      ],
      "text/plain": [
       "LinearRegression()"
      ]
     },
     "execution_count": 51,
     "metadata": {},
     "output_type": "execute_result"
    }
   ],
   "source": [
    "model = LinearRegression()\n",
    "model.fit(X_train, y_train)\n"
   ]
  },
  {
   "cell_type": "code",
   "execution_count": 53,
   "id": "1dbbcb28-04bd-4e1a-8bfa-6270b10510c0",
   "metadata": {},
   "outputs": [],
   "source": [
    "y_pred = model.predict(X_test)"
   ]
  },
  {
   "cell_type": "code",
   "execution_count": 55,
   "id": "ceeed3f4-4b8c-4899-834a-021bfd73747c",
   "metadata": {},
   "outputs": [],
   "source": [
    "mse = mean_squared_error(y_test, y_pred)\n",
    "r2 = r2_score(y_test, y_pred)"
   ]
  },
  {
   "cell_type": "code",
   "execution_count": 57,
   "id": "2dfebfb0-91ff-414b-8252-43bd7462239e",
   "metadata": {},
   "outputs": [
    {
     "name": "stdout",
     "output_type": "stream",
     "text": [
      "Mean Squared Error (MSE): 0.030707780548975466\n",
      "R-squared (R2 Score): 0.7592980701816194\n",
      "Intercept: -0.3771229480817153\n",
      "Coefficients: [ 7.79782895e-17  3.00861705e-02  1.66810186e-03  2.04536927e-02\n",
      "  1.20558069e-02  8.79253722e-03  1.40430882e-04 -1.37062272e-08\n",
      "  2.81573808e-06 -3.07266988e-06  2.33138707e-01  8.75931171e-01]\n"
     ]
    }
   ],
   "source": [
    "print(f\"Mean Squared Error (MSE): {mse}\")\n",
    "print(f\"R-squared (R2 Score): {r2}\")\n",
    "\n",
    "# Optional: Displaying the coefficients\n",
    "print(f\"Intercept: {model.intercept_}\")\n",
    "print(f\"Coefficients: {model.coef_}\")"
   ]
  },
  {
   "cell_type": "code",
   "execution_count": 59,
   "id": "aa1150d8-1b91-48ec-9f6d-37bf8688ba51",
   "metadata": {},
   "outputs": [
    {
     "name": "stdout",
     "output_type": "stream",
     "text": [
      "Variance score: 0.7592980701816194\n"
     ]
    }
   ],
   "source": [
    "# variance score: 1 means perfect prediction\n",
    "print('Variance score: {}'.format(model.score(X_test, y_test)))"
   ]
  },
  {
   "cell_type": "code",
   "execution_count": 61,
   "id": "ce38c928-664a-4d40-ab04-a4a6fe93344a",
   "metadata": {
    "scrolled": true
   },
   "outputs": [
    {
     "name": "stdout",
     "output_type": "stream",
     "text": [
      "Training Precision: 0.8510981912144703\n",
      "Training Recall: 0.7609009529309847\n",
      "Test Precision: 0.8457639391745112\n",
      "Test Recall: 0.7833668678739101\n"
     ]
    }
   ],
   "source": [
    "from sklearn.metrics import precision_score, recall_score\n",
    "\n",
    "# Define a threshold\n",
    "threshold = 4\n",
    "\n",
    "# Convert regression predictions and true values to binary classification\n",
    "y_train_pred = model.predict(X_train)\n",
    "y_train_binary = (y_train >= threshold).astype(int)\n",
    "y_train_pred_binary = (y_train_pred >= threshold).astype(int)\n",
    "\n",
    "y_test_pred = model.predict(X_test)\n",
    "y_test_binary = (y_test >= threshold).astype(int)\n",
    "y_test_pred_binary = (y_test_pred >= threshold).astype(int)\n",
    "\n",
    "# Calculate precision and recall\n",
    "precision_train = precision_score(y_train_binary, y_train_pred_binary)\n",
    "recall_train = recall_score(y_train_binary, y_train_pred_binary)\n",
    "\n",
    "precision_test = precision_score(y_test_binary, y_test_pred_binary)\n",
    "recall_test = recall_score(y_test_binary, y_test_pred_binary)\n",
    "\n",
    "print(f\"Training Precision: {precision_train}\")\n",
    "print(f\"Training Recall: {recall_train}\")\n",
    "print(f\"Test Precision: {precision_test}\")\n",
    "print(f\"Test Recall: {recall_test}\")\n"
   ]
  },
  {
   "cell_type": "code",
   "execution_count": null,
   "id": "a76161e9-cac6-424e-95c3-d479e92ca59a",
   "metadata": {},
   "outputs": [],
   "source": []
  }
 ],
 "metadata": {
  "kernelspec": {
   "display_name": "Python 3 (ipykernel)",
   "language": "python",
   "name": "python3"
  },
  "language_info": {
   "codemirror_mode": {
    "name": "ipython",
    "version": 3
   },
   "file_extension": ".py",
   "mimetype": "text/x-python",
   "name": "python",
   "nbconvert_exporter": "python",
   "pygments_lexer": "ipython3",
   "version": "3.11.7"
  }
 },
 "nbformat": 4,
 "nbformat_minor": 5
}
